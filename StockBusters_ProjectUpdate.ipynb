{
 "cells": [
  {
   "cell_type": "markdown",
   "id": "56f98474-d115-4771-895d-cd167add5756",
   "metadata": {},
   "source": [
    "# Beyond-The-Headlines-Exploring-Insights-From-Stocks\n",
    "#### <font color=\"gray\"> Group 19 (Stockbusters): Brigid Sax, Delvin Eluvathingal, Nan Liu, Navneeth Oruganti, Rakshanda Hedawoo, Saketh Gangavaram, Sumedh Tirodkar </font>\n",
    "\n",
    "### Introduction and Summary:\n",
    "##### The covid-19 pandemic is a one off global event. It has sent shockwaves to economies across the globe. In this project, we aim to perform an in-depth analysis of the impact of the COVID-19 pandemic on the performance of the top 5 stocks within four sectors that were severely affected by the crisis. The four sectors we are focusing on are Tech, Pharma, Telecom and FMCG (Fast moving consumer goods) and only on US stocks for this. This analysis is pivotal in understanding how economic crises impact stock performance and the broader financial markets. The study will be conducted in a Jupyter Notebook environment using statistical models and is expected to span a duration of 40-45 days.\n",
    "\n",
    "Lockdown 1 :- March 2020 to July 2020 <br>\n",
    "Lockdown 2 (Omicron):- November 2021 to February 2022 <br>\n",
    "Ukraine War :- 24 February 2022 to till date"
   ]
  },
  {
   "cell_type": "markdown",
   "id": "740291b8",
   "metadata": {},
   "source": [
    "### Import Statements"
   ]
  },
  {
   "cell_type": "code",
   "execution_count": 1,
   "id": "aca94314",
   "metadata": {
    "tags": []
   },
   "outputs": [],
   "source": [
    "# importing Pandas library\n",
    "import pandas as pd"
   ]
  },
  {
   "cell_type": "markdown",
   "id": "8c090d0a-6ee9-45b3-bec6-a494ff78cd8b",
   "metadata": {},
   "source": [
    "### Loading the data sets into the Jupyter Notebook"
   ]
  },
  {
   "cell_type": "code",
   "execution_count": 3,
   "id": "6ba75e7f-d697-4502-8634-1837c474e9a1",
   "metadata": {
    "tags": []
   },
   "outputs": [],
   "source": [
    "# defining the file path. Change this according to your local system where you have placed your \"DataFiles\" folder containing the data tables\n",
    "file_path = ''"
   ]
  },
  {
   "cell_type": "code",
   "execution_count": 47,
   "id": "9f77fc42",
   "metadata": {
    "tags": []
   },
   "outputs": [
    {
     "data": {
      "text/html": [
       "<div>\n",
       "<style scoped>\n",
       "    .dataframe tbody tr th:only-of-type {\n",
       "        vertical-align: middle;\n",
       "    }\n",
       "\n",
       "    .dataframe tbody tr th {\n",
       "        vertical-align: top;\n",
       "    }\n",
       "\n",
       "    .dataframe thead th {\n",
       "        text-align: right;\n",
       "    }\n",
       "</style>\n",
       "<table border=\"1\" class=\"dataframe\">\n",
       "  <thead>\n",
       "    <tr style=\"text-align: right;\">\n",
       "      <th></th>\n",
       "      <th>Open</th>\n",
       "      <th>High</th>\n",
       "      <th>Low</th>\n",
       "      <th>Close</th>\n",
       "      <th>Adj Close</th>\n",
       "      <th>Volume</th>\n",
       "    </tr>\n",
       "    <tr>\n",
       "      <th>Date</th>\n",
       "      <th></th>\n",
       "      <th></th>\n",
       "      <th></th>\n",
       "      <th></th>\n",
       "      <th></th>\n",
       "      <th></th>\n",
       "    </tr>\n",
       "  </thead>\n",
       "  <tbody>\n",
       "    <tr>\n",
       "      <th>2019-10-23</th>\n",
       "      <td>60.53</td>\n",
       "      <td>60.81</td>\n",
       "      <td>60.30</td>\n",
       "      <td>60.79</td>\n",
       "      <td>59.13</td>\n",
       "      <td>75828800</td>\n",
       "    </tr>\n",
       "    <tr>\n",
       "      <th>2019-10-24</th>\n",
       "      <td>61.13</td>\n",
       "      <td>61.20</td>\n",
       "      <td>60.45</td>\n",
       "      <td>60.90</td>\n",
       "      <td>59.23</td>\n",
       "      <td>69275200</td>\n",
       "    </tr>\n",
       "    <tr>\n",
       "      <th>2019-10-25</th>\n",
       "      <td>60.79</td>\n",
       "      <td>61.68</td>\n",
       "      <td>60.72</td>\n",
       "      <td>61.64</td>\n",
       "      <td>59.96</td>\n",
       "      <td>73477200</td>\n",
       "    </tr>\n",
       "    <tr>\n",
       "      <th>2019-10-28</th>\n",
       "      <td>61.86</td>\n",
       "      <td>62.31</td>\n",
       "      <td>61.68</td>\n",
       "      <td>62.26</td>\n",
       "      <td>60.56</td>\n",
       "      <td>96572800</td>\n",
       "    </tr>\n",
       "    <tr>\n",
       "      <th>2019-10-29</th>\n",
       "      <td>62.24</td>\n",
       "      <td>62.44</td>\n",
       "      <td>60.64</td>\n",
       "      <td>60.82</td>\n",
       "      <td>59.16</td>\n",
       "      <td>142839600</td>\n",
       "    </tr>\n",
       "    <tr>\n",
       "      <th>...</th>\n",
       "      <td>...</td>\n",
       "      <td>...</td>\n",
       "      <td>...</td>\n",
       "      <td>...</td>\n",
       "      <td>...</td>\n",
       "      <td>...</td>\n",
       "    </tr>\n",
       "    <tr>\n",
       "      <th>2023-10-16</th>\n",
       "      <td>176.75</td>\n",
       "      <td>179.08</td>\n",
       "      <td>176.51</td>\n",
       "      <td>178.72</td>\n",
       "      <td>178.72</td>\n",
       "      <td>52517000</td>\n",
       "    </tr>\n",
       "    <tr>\n",
       "      <th>2023-10-17</th>\n",
       "      <td>176.65</td>\n",
       "      <td>178.42</td>\n",
       "      <td>174.80</td>\n",
       "      <td>177.15</td>\n",
       "      <td>177.15</td>\n",
       "      <td>57549400</td>\n",
       "    </tr>\n",
       "    <tr>\n",
       "      <th>2023-10-18</th>\n",
       "      <td>175.58</td>\n",
       "      <td>177.58</td>\n",
       "      <td>175.11</td>\n",
       "      <td>175.84</td>\n",
       "      <td>175.84</td>\n",
       "      <td>54764400</td>\n",
       "    </tr>\n",
       "    <tr>\n",
       "      <th>2023-10-19</th>\n",
       "      <td>176.04</td>\n",
       "      <td>177.84</td>\n",
       "      <td>175.19</td>\n",
       "      <td>175.46</td>\n",
       "      <td>175.46</td>\n",
       "      <td>59302900</td>\n",
       "    </tr>\n",
       "    <tr>\n",
       "      <th>2023-10-20</th>\n",
       "      <td>175.31</td>\n",
       "      <td>175.42</td>\n",
       "      <td>172.64</td>\n",
       "      <td>172.88</td>\n",
       "      <td>172.88</td>\n",
       "      <td>64189300</td>\n",
       "    </tr>\n",
       "  </tbody>\n",
       "</table>\n",
       "<p>1006 rows × 6 columns</p>\n",
       "</div>"
      ],
      "text/plain": [
       "              Open    High     Low   Close  Adj Close     Volume\n",
       "Date                                                            \n",
       "2019-10-23   60.53   60.81   60.30   60.79      59.13   75828800\n",
       "2019-10-24   61.13   61.20   60.45   60.90      59.23   69275200\n",
       "2019-10-25   60.79   61.68   60.72   61.64      59.96   73477200\n",
       "2019-10-28   61.86   62.31   61.68   62.26      60.56   96572800\n",
       "2019-10-29   62.24   62.44   60.64   60.82      59.16  142839600\n",
       "...            ...     ...     ...     ...        ...        ...\n",
       "2023-10-16  176.75  179.08  176.51  178.72     178.72   52517000\n",
       "2023-10-17  176.65  178.42  174.80  177.15     177.15   57549400\n",
       "2023-10-18  175.58  177.58  175.11  175.84     175.84   54764400\n",
       "2023-10-19  176.04  177.84  175.19  175.46     175.46   59302900\n",
       "2023-10-20  175.31  175.42  172.64  172.88     172.88   64189300\n",
       "\n",
       "[1006 rows x 6 columns]"
      ]
     },
     "execution_count": 47,
     "metadata": {},
     "output_type": "execute_result"
    }
   ],
   "source": [
    "dfAAPL = pd.read_csv(file_path + 'AAPL.csv', delimiter = ',', index_col = 'Date')"
   ]
  },
  {
   "cell_type": "code",
   "execution_count": 5,
   "id": "6f4f172a",
   "metadata": {
    "tags": []
   },
   "outputs": [],
   "source": [
    "dfAMZN = pd.read_csv(file_path + 'AMZN.csv', delimiter = ',', index_col = 'Date')"
   ]
  },
  {
   "cell_type": "code",
   "execution_count": 6,
   "id": "725aabf6",
   "metadata": {
    "tags": []
   },
   "outputs": [],
   "source": [
    "dfBMY = pd.read_csv(file_path + 'BMY.csv', delimiter = ',', index_col = 'Date')"
   ]
  },
  {
   "cell_type": "code",
   "execution_count": 7,
   "id": "77756386",
   "metadata": {
    "tags": []
   },
   "outputs": [],
   "source": [
    "dfCHTR = pd.read_csv(file_path + 'CHTR.csv', delimiter = ',', index_col = 'Date')"
   ]
  },
  {
   "cell_type": "code",
   "execution_count": 8,
   "id": "0a65e050",
   "metadata": {
    "tags": []
   },
   "outputs": [],
   "source": [
    "dfCL = pd.read_csv(file_path + 'CL.csv', delimiter = ',', index_col = 'Date')"
   ]
  },
  {
   "cell_type": "code",
   "execution_count": 9,
   "id": "aca15cc5",
   "metadata": {
    "tags": []
   },
   "outputs": [],
   "source": [
    "dfCMCSA = pd.read_csv(file_path + 'CMCSA.csv', delimiter = ',', index_col = 'Date')"
   ]
  },
  {
   "cell_type": "code",
   "execution_count": 10,
   "id": "d45a1e60",
   "metadata": {
    "tags": []
   },
   "outputs": [],
   "source": [
    "dfGOOG = pd.read_csv(file_path + 'GOOG.csv', delimiter = ',', index_col = 'Date')"
   ]
  },
  {
   "cell_type": "code",
   "execution_count": 11,
   "id": "027e171d",
   "metadata": {
    "tags": []
   },
   "outputs": [],
   "source": [
    "dfJNJ = pd.read_csv(file_path + 'JNJ.csv', delimiter = ',', index_col = 'Date')"
   ]
  },
  {
   "cell_type": "code",
   "execution_count": 12,
   "id": "3fba5bde",
   "metadata": {
    "tags": []
   },
   "outputs": [],
   "source": [
    "dfKO = pd.read_csv(file_path + 'KO.csv', delimiter = ',', index_col = 'Date')"
   ]
  },
  {
   "cell_type": "code",
   "execution_count": 13,
   "id": "d367a15e",
   "metadata": {
    "tags": []
   },
   "outputs": [],
   "source": [
    "dfLLY = pd.read_csv(file_path + 'LLY.csv', delimiter = ',', index_col = 'Date')"
   ]
  },
  {
   "cell_type": "code",
   "execution_count": 14,
   "id": "bfa420bd",
   "metadata": {
    "tags": []
   },
   "outputs": [],
   "source": [
    "dfMETA = pd.read_csv(file_path + 'META.csv', delimiter = ',', index_col = 'Date')"
   ]
  },
  {
   "cell_type": "code",
   "execution_count": 15,
   "id": "d4e0c704",
   "metadata": {
    "tags": []
   },
   "outputs": [],
   "source": [
    "dfMRK = pd.read_csv(file_path + 'MRK.csv', delimiter = ',', index_col = 'Date')"
   ]
  },
  {
   "cell_type": "code",
   "execution_count": 16,
   "id": "b2c9e2f2",
   "metadata": {
    "tags": []
   },
   "outputs": [],
   "source": [
    "dfMSFT = pd.read_csv(file_path + 'MSFT.csv', delimiter = ',', index_col = 'Date')"
   ]
  },
  {
   "cell_type": "code",
   "execution_count": 17,
   "id": "4af5dcd6",
   "metadata": {
    "tags": []
   },
   "outputs": [],
   "source": [
    "dfPEP = pd.read_csv(file_path + 'PEP.csv', delimiter = ',', index_col = 'Date')"
   ]
  },
  {
   "cell_type": "code",
   "execution_count": 18,
   "id": "d9b24ebc",
   "metadata": {
    "tags": []
   },
   "outputs": [],
   "source": [
    "dfPFE = pd.read_csv(file_path + 'PFE.csv', delimiter = ',', index_col = 'Date')"
   ]
  },
  {
   "cell_type": "code",
   "execution_count": 19,
   "id": "f4dea593",
   "metadata": {
    "tags": []
   },
   "outputs": [],
   "source": [
    "dfPG = pd.read_csv(file_path + 'PG.csv', delimiter = ',', index_col = 'Date')"
   ]
  },
  {
   "cell_type": "code",
   "execution_count": 20,
   "id": "8e7ec2bf",
   "metadata": {
    "tags": []
   },
   "outputs": [],
   "source": [
    "dfT = pd.read_csv(file_path + 'T.csv', delimiter = ',', index_col = 'Date')"
   ]
  },
  {
   "cell_type": "code",
   "execution_count": 21,
   "id": "57805a79",
   "metadata": {
    "tags": []
   },
   "outputs": [],
   "source": [
    "dfTMUS = pd.read_csv(file_path + 'TMUS.csv', delimiter = ',', index_col = 'Date')"
   ]
  },
  {
   "cell_type": "code",
   "execution_count": 22,
   "id": "2983c0e5",
   "metadata": {
    "tags": []
   },
   "outputs": [],
   "source": [
    "dfVZ = pd.read_csv(file_path + 'VZ.csv', delimiter = ',', index_col = 'Date')"
   ]
  },
  {
   "cell_type": "code",
   "execution_count": 23,
   "id": "b7be789c",
   "metadata": {
    "tags": []
   },
   "outputs": [],
   "source": [
    "dfWMT = pd.read_csv(file_path + 'WMT.csv', delimiter = ',', index_col = 'Date')"
   ]
  },
  {
   "cell_type": "code",
   "execution_count": 24,
   "id": "d0cbc2b2",
   "metadata": {
    "tags": []
   },
   "outputs": [],
   "source": [
    "df500_19 = pd.read_csv(file_path + 'INDEX_US_S&P US_SPX_Oct19-20.csv', delimiter = ',')"
   ]
  },
  {
   "cell_type": "code",
   "execution_count": 25,
   "id": "114aff51",
   "metadata": {
    "tags": []
   },
   "outputs": [],
   "source": [
    "df500_20 = pd.read_csv(file_path + 'INDEX_US_S&P US_SPX_Oct20-21.csv', delimiter = ',')"
   ]
  },
  {
   "cell_type": "code",
   "execution_count": 26,
   "id": "40bf55eb",
   "metadata": {
    "tags": []
   },
   "outputs": [],
   "source": [
    "df500_21 = pd.read_csv(file_path + 'INDEX_US_S&P US_SPX_Oct21-22.csv', delimiter = ',')"
   ]
  },
  {
   "cell_type": "code",
   "execution_count": 27,
   "id": "eb7673a8",
   "metadata": {
    "tags": []
   },
   "outputs": [],
   "source": [
    "df500_22 = pd.read_csv(file_path + 'INDEX_US_S&P US_SPX_Oct22-23.csv', delimiter = ',')"
   ]
  },
  {
   "cell_type": "code",
   "execution_count": 28,
   "id": "3d620a24",
   "metadata": {
    "tags": []
   },
   "outputs": [],
   "source": [
    "dfDow_19 = pd.read_csv(file_path + 'INDEX_US_DOW JONES GLOBAL_DJIA_Oct19-20.csv', delimiter = ',')"
   ]
  },
  {
   "cell_type": "code",
   "execution_count": 29,
   "id": "820dcdf3",
   "metadata": {
    "tags": []
   },
   "outputs": [],
   "source": [
    "dfDow_20 = pd.read_csv(file_path + 'INDEX_US_DOW JONES GLOBAL_DJIA_Oct20-21.csv', delimiter = ',')"
   ]
  },
  {
   "cell_type": "code",
   "execution_count": 30,
   "id": "24a9ddb1",
   "metadata": {
    "tags": []
   },
   "outputs": [],
   "source": [
    "dfDow_21 = pd.read_csv(file_path + 'INDEX_US_DOW JONES GLOBAL_DJIA_Oct21-22.csv', delimiter = ',')"
   ]
  },
  {
   "cell_type": "code",
   "execution_count": 31,
   "id": "32aaa5cc",
   "metadata": {
    "tags": []
   },
   "outputs": [],
   "source": [
    "dfDow_22 = pd.read_csv(file_path + 'INDEX_US_DOW JONES GLOBAL_DJIA_Oct22-23.csv', delimiter = ',')\n"
   ]
  },
  {
   "cell_type": "markdown",
   "id": "9742cbf4",
   "metadata": {},
   "source": [
    "## Concatenating Indexes"
   ]
  },
  {
   "cell_type": "code",
   "execution_count": 32,
   "id": "117b978c",
   "metadata": {
    "tags": []
   },
   "outputs": [],
   "source": [
    "df500 = pd.concat([df500_22,df500_21,df500_20,df500_19])\n",
    "df500.set_index('Date',inplace=True)\n"
   ]
  },
  {
   "cell_type": "code",
   "execution_count": 33,
   "id": "02b0294c",
   "metadata": {
    "tags": []
   },
   "outputs": [],
   "source": [
    "dfDow = pd.concat([dfDow_22,dfDow_21,dfDow_20,dfDow_19])\n",
    "dfDow.set_index('Date',inplace=True)"
   ]
  },
  {
   "cell_type": "markdown",
   "id": "5f3e6607",
   "metadata": {},
   "source": [
    "## Merging Dataset"
   ]
  },
  {
   "cell_type": "code",
   "execution_count": 68,
   "id": "e7a8354c",
   "metadata": {
    "tags": []
   },
   "outputs": [],
   "source": [
    "dfIndexes = pd.merge(df500, dfDow, on = 'Date', how ='inner', suffixes=('_500', '_Dow'))"
   ]
  },
  {
   "cell_type": "code",
   "execution_count": 69,
   "id": "2eaa6986-2758-4345-a535-dda29513e592",
   "metadata": {
    "tags": []
   },
   "outputs": [],
   "source": [
    "dfIndexes = pd.concat((df500, dfDow), join ='inner', keys=['S&P500', 'DJIA30'],axis=1)"
   ]
  },
  {
   "cell_type": "code",
   "execution_count": 70,
   "id": "c16ca5fc-3560-4552-baf2-64b69c7af14d",
   "metadata": {
    "tags": []
   },
   "outputs": [
    {
     "data": {
      "text/html": [
       "<div>\n",
       "<style scoped>\n",
       "    .dataframe tbody tr th:only-of-type {\n",
       "        vertical-align: middle;\n",
       "    }\n",
       "\n",
       "    .dataframe tbody tr th {\n",
       "        vertical-align: top;\n",
       "    }\n",
       "\n",
       "    .dataframe thead tr th {\n",
       "        text-align: left;\n",
       "    }\n",
       "\n",
       "    .dataframe thead tr:last-of-type th {\n",
       "        text-align: right;\n",
       "    }\n",
       "</style>\n",
       "<table border=\"1\" class=\"dataframe\">\n",
       "  <thead>\n",
       "    <tr>\n",
       "      <th></th>\n",
       "      <th colspan=\"4\" halign=\"left\">S&amp;P500</th>\n",
       "      <th colspan=\"4\" halign=\"left\">DJIA30</th>\n",
       "    </tr>\n",
       "    <tr>\n",
       "      <th></th>\n",
       "      <th>Open</th>\n",
       "      <th>High</th>\n",
       "      <th>Low</th>\n",
       "      <th>Close</th>\n",
       "      <th>Open</th>\n",
       "      <th>High</th>\n",
       "      <th>Low</th>\n",
       "      <th>Close</th>\n",
       "    </tr>\n",
       "    <tr>\n",
       "      <th>Date</th>\n",
       "      <th></th>\n",
       "      <th></th>\n",
       "      <th></th>\n",
       "      <th></th>\n",
       "      <th></th>\n",
       "      <th></th>\n",
       "      <th></th>\n",
       "      <th></th>\n",
       "    </tr>\n",
       "  </thead>\n",
       "  <tbody>\n",
       "    <tr>\n",
       "      <th>10/24/2023</th>\n",
       "      <td>4,235.79</td>\n",
       "      <td>4,259.38</td>\n",
       "      <td>4,219.43</td>\n",
       "      <td>4,247.68</td>\n",
       "      <td>33,089.64</td>\n",
       "      <td>33,272.19</td>\n",
       "      <td>32,988.43</td>\n",
       "      <td>33,141.38</td>\n",
       "    </tr>\n",
       "    <tr>\n",
       "      <th>10/23/2023</th>\n",
       "      <td>4,210.40</td>\n",
       "      <td>4,255.84</td>\n",
       "      <td>4,189.22</td>\n",
       "      <td>4,217.04</td>\n",
       "      <td>32,993.02</td>\n",
       "      <td>33,234.85</td>\n",
       "      <td>32,892.19</td>\n",
       "      <td>32,936.41</td>\n",
       "    </tr>\n",
       "    <tr>\n",
       "      <th>10/20/2023</th>\n",
       "      <td>4,273.85</td>\n",
       "      <td>4,276.56</td>\n",
       "      <td>4,223.03</td>\n",
       "      <td>4,224.16</td>\n",
       "      <td>33,365.27</td>\n",
       "      <td>33,425.77</td>\n",
       "      <td>33,118.12</td>\n",
       "      <td>33,127.28</td>\n",
       "    </tr>\n",
       "    <tr>\n",
       "      <th>10/19/2023</th>\n",
       "      <td>4,321.36</td>\n",
       "      <td>4,339.54</td>\n",
       "      <td>4,269.69</td>\n",
       "      <td>4,278.00</td>\n",
       "      <td>33,669.52</td>\n",
       "      <td>33,852.39</td>\n",
       "      <td>33,368.58</td>\n",
       "      <td>33,414.17</td>\n",
       "    </tr>\n",
       "    <tr>\n",
       "      <th>10/18/2023</th>\n",
       "      <td>4,357.35</td>\n",
       "      <td>4,364.20</td>\n",
       "      <td>4,303.84</td>\n",
       "      <td>4,314.60</td>\n",
       "      <td>33,960.25</td>\n",
       "      <td>33,991.51</td>\n",
       "      <td>33,598.64</td>\n",
       "      <td>33,665.08</td>\n",
       "    </tr>\n",
       "  </tbody>\n",
       "</table>\n",
       "</div>"
      ],
      "text/plain": [
       "              S&P500                                   DJIA30             \\\n",
       "                Open      High       Low     Close       Open       High   \n",
       "Date                                                                       \n",
       "10/24/2023  4,235.79  4,259.38  4,219.43  4,247.68  33,089.64  33,272.19   \n",
       "10/23/2023  4,210.40  4,255.84  4,189.22  4,217.04  32,993.02  33,234.85   \n",
       "10/20/2023  4,273.85  4,276.56  4,223.03  4,224.16  33,365.27  33,425.77   \n",
       "10/19/2023  4,321.36  4,339.54  4,269.69  4,278.00  33,669.52  33,852.39   \n",
       "10/18/2023  4,357.35  4,364.20  4,303.84  4,314.60  33,960.25  33,991.51   \n",
       "\n",
       "                                  \n",
       "                  Low      Close  \n",
       "Date                              \n",
       "10/24/2023  32,988.43  33,141.38  \n",
       "10/23/2023  32,892.19  32,936.41  \n",
       "10/20/2023  33,118.12  33,127.28  \n",
       "10/19/2023  33,368.58  33,414.17  \n",
       "10/18/2023  33,598.64  33,665.08  "
      ]
     },
     "execution_count": 70,
     "metadata": {},
     "output_type": "execute_result"
    }
   ],
   "source": [
    "dfIndexes.head()"
   ]
  },
  {
   "cell_type": "code",
   "execution_count": 76,
   "id": "cb3ab692-c03b-4317-afd0-fff6b2ceacb3",
   "metadata": {
    "tags": []
   },
   "outputs": [
    {
     "ename": "ParserError",
     "evalue": "Unknown string format: S&P500 present at position 0",
     "output_type": "error",
     "traceback": [
      "\u001b[1;31m---------------------------------------------------------------------------\u001b[0m",
      "\u001b[1;31mParserError\u001b[0m                               Traceback (most recent call last)",
      "File \u001b[1;32m~\\anaconda3\\Lib\\site-packages\\pandas\\_libs\\tslib.pyx:605\u001b[0m, in \u001b[0;36mpandas._libs.tslib.array_to_datetime\u001b[1;34m()\u001b[0m\n",
      "File \u001b[1;32m~\\anaconda3\\Lib\\site-packages\\pandas\\_libs\\tslibs\\parsing.pyx:318\u001b[0m, in \u001b[0;36mpandas._libs.tslibs.parsing.parse_datetime_string\u001b[1;34m()\u001b[0m\n",
      "File \u001b[1;32m~\\anaconda3\\Lib\\site-packages\\dateutil\\parser\\_parser.py:1368\u001b[0m, in \u001b[0;36mparse\u001b[1;34m(timestr, parserinfo, **kwargs)\u001b[0m\n\u001b[0;32m   1367\u001b[0m \u001b[38;5;28;01melse\u001b[39;00m:\n\u001b[1;32m-> 1368\u001b[0m     \u001b[38;5;28;01mreturn\u001b[39;00m DEFAULTPARSER\u001b[38;5;241m.\u001b[39mparse(timestr, \u001b[38;5;241m*\u001b[39m\u001b[38;5;241m*\u001b[39mkwargs)\n",
      "File \u001b[1;32m~\\anaconda3\\Lib\\site-packages\\dateutil\\parser\\_parser.py:643\u001b[0m, in \u001b[0;36mparser.parse\u001b[1;34m(self, timestr, default, ignoretz, tzinfos, **kwargs)\u001b[0m\n\u001b[0;32m    642\u001b[0m \u001b[38;5;28;01mif\u001b[39;00m res \u001b[38;5;129;01mis\u001b[39;00m \u001b[38;5;28;01mNone\u001b[39;00m:\n\u001b[1;32m--> 643\u001b[0m     \u001b[38;5;28;01mraise\u001b[39;00m ParserError(\u001b[38;5;124m\"\u001b[39m\u001b[38;5;124mUnknown string format: \u001b[39m\u001b[38;5;132;01m%s\u001b[39;00m\u001b[38;5;124m\"\u001b[39m, timestr)\n\u001b[0;32m    645\u001b[0m \u001b[38;5;28;01mif\u001b[39;00m \u001b[38;5;28mlen\u001b[39m(res) \u001b[38;5;241m==\u001b[39m \u001b[38;5;241m0\u001b[39m:\n",
      "\u001b[1;31mParserError\u001b[0m: Unknown string format: S&P500",
      "\nDuring handling of the above exception, another exception occurred:\n",
      "\u001b[1;31mTypeError\u001b[0m                                 Traceback (most recent call last)",
      "File \u001b[1;32m~\\anaconda3\\Lib\\site-packages\\pandas\\_libs\\tslib.pyx:616\u001b[0m, in \u001b[0;36mpandas._libs.tslib.array_to_datetime\u001b[1;34m()\u001b[0m\n",
      "\u001b[1;31mTypeError\u001b[0m: invalid string coercion to datetime for \"S&P500\" at position 0",
      "\nDuring handling of the above exception, another exception occurred:\n",
      "\u001b[1;31mParserError\u001b[0m                               Traceback (most recent call last)",
      "Cell \u001b[1;32mIn[76], line 1\u001b[0m\n\u001b[1;32m----> 1\u001b[0m dfIndexes\u001b[38;5;241m.\u001b[39mindex \u001b[38;5;241m=\u001b[39m dfIndexes\u001b[38;5;241m.\u001b[39mindex\u001b[38;5;241m.\u001b[39mmap(\u001b[38;5;28;01mlambda\u001b[39;00m d: pd\u001b[38;5;241m.\u001b[39mto_datetime(d)\u001b[38;5;241m.\u001b[39mstrftime(\u001b[38;5;124m'\u001b[39m\u001b[38;5;124m%\u001b[39m\u001b[38;5;124mY-\u001b[39m\u001b[38;5;124m%\u001b[39m\u001b[38;5;124mm-\u001b[39m\u001b[38;5;132;01m%d\u001b[39;00m\u001b[38;5;124m'\u001b[39m))\n\u001b[0;32m      2\u001b[0m dfIndexes \u001b[38;5;241m=\u001b[39m dfIndexes\u001b[38;5;241m.\u001b[39mapply(\u001b[38;5;28;01mlambda\u001b[39;00m index: index\u001b[38;5;241m.\u001b[39mstr\u001b[38;5;241m.\u001b[39mreplace(\u001b[38;5;124m'\u001b[39m\u001b[38;5;124m,\u001b[39m\u001b[38;5;124m'\u001b[39m,\u001b[38;5;124m'\u001b[39m\u001b[38;5;124m'\u001b[39m)\u001b[38;5;241m.\u001b[39mastype(\u001b[38;5;28mfloat\u001b[39m))\n\u001b[0;32m      3\u001b[0m dfIndexes\u001b[38;5;241m.\u001b[39mhead()\n",
      "File \u001b[1;32m~\\anaconda3\\Lib\\site-packages\\pandas\\core\\indexes\\base.py:6361\u001b[0m, in \u001b[0;36mIndex.map\u001b[1;34m(self, mapper, na_action)\u001b[0m\n\u001b[0;32m   6341\u001b[0m \u001b[38;5;250m\u001b[39m\u001b[38;5;124;03m\"\"\"\u001b[39;00m\n\u001b[0;32m   6342\u001b[0m \u001b[38;5;124;03mMap values using an input mapping or function.\u001b[39;00m\n\u001b[0;32m   6343\u001b[0m \n\u001b[1;32m   (...)\u001b[0m\n\u001b[0;32m   6357\u001b[0m \u001b[38;5;124;03m    a MultiIndex will be returned.\u001b[39;00m\n\u001b[0;32m   6358\u001b[0m \u001b[38;5;124;03m\"\"\"\u001b[39;00m\n\u001b[0;32m   6359\u001b[0m \u001b[38;5;28;01mfrom\u001b[39;00m \u001b[38;5;21;01mpandas\u001b[39;00m\u001b[38;5;21;01m.\u001b[39;00m\u001b[38;5;21;01mcore\u001b[39;00m\u001b[38;5;21;01m.\u001b[39;00m\u001b[38;5;21;01mindexes\u001b[39;00m\u001b[38;5;21;01m.\u001b[39;00m\u001b[38;5;21;01mmulti\u001b[39;00m \u001b[38;5;28;01mimport\u001b[39;00m MultiIndex\n\u001b[1;32m-> 6361\u001b[0m new_values \u001b[38;5;241m=\u001b[39m \u001b[38;5;28mself\u001b[39m\u001b[38;5;241m.\u001b[39m_map_values(mapper, na_action\u001b[38;5;241m=\u001b[39mna_action)\n\u001b[0;32m   6363\u001b[0m \u001b[38;5;66;03m# we can return a MultiIndex\u001b[39;00m\n\u001b[0;32m   6364\u001b[0m \u001b[38;5;28;01mif\u001b[39;00m new_values\u001b[38;5;241m.\u001b[39msize \u001b[38;5;129;01mand\u001b[39;00m \u001b[38;5;28misinstance\u001b[39m(new_values[\u001b[38;5;241m0\u001b[39m], \u001b[38;5;28mtuple\u001b[39m):\n",
      "File \u001b[1;32m~\\anaconda3\\Lib\\site-packages\\pandas\\core\\base.py:890\u001b[0m, in \u001b[0;36mIndexOpsMixin._map_values\u001b[1;34m(self, mapper, na_action)\u001b[0m\n\u001b[0;32m    887\u001b[0m         \u001b[38;5;28;01mraise\u001b[39;00m \u001b[38;5;167;01mValueError\u001b[39;00m(msg)\n\u001b[0;32m    889\u001b[0m \u001b[38;5;66;03m# mapper is a function\u001b[39;00m\n\u001b[1;32m--> 890\u001b[0m new_values \u001b[38;5;241m=\u001b[39m map_f(values, mapper)\n\u001b[0;32m    892\u001b[0m \u001b[38;5;28;01mreturn\u001b[39;00m new_values\n",
      "File \u001b[1;32m~\\anaconda3\\Lib\\site-packages\\pandas\\_libs\\lib.pyx:2924\u001b[0m, in \u001b[0;36mpandas._libs.lib.map_infer\u001b[1;34m()\u001b[0m\n",
      "Cell \u001b[1;32mIn[76], line 1\u001b[0m, in \u001b[0;36m<lambda>\u001b[1;34m(d)\u001b[0m\n\u001b[1;32m----> 1\u001b[0m dfIndexes\u001b[38;5;241m.\u001b[39mindex \u001b[38;5;241m=\u001b[39m dfIndexes\u001b[38;5;241m.\u001b[39mindex\u001b[38;5;241m.\u001b[39mmap(\u001b[38;5;28;01mlambda\u001b[39;00m d: pd\u001b[38;5;241m.\u001b[39mto_datetime(d)\u001b[38;5;241m.\u001b[39mstrftime(\u001b[38;5;124m'\u001b[39m\u001b[38;5;124m%\u001b[39m\u001b[38;5;124mY-\u001b[39m\u001b[38;5;124m%\u001b[39m\u001b[38;5;124mm-\u001b[39m\u001b[38;5;132;01m%d\u001b[39;00m\u001b[38;5;124m'\u001b[39m))\n\u001b[0;32m      2\u001b[0m dfIndexes \u001b[38;5;241m=\u001b[39m dfIndexes\u001b[38;5;241m.\u001b[39mapply(\u001b[38;5;28;01mlambda\u001b[39;00m index: index\u001b[38;5;241m.\u001b[39mstr\u001b[38;5;241m.\u001b[39mreplace(\u001b[38;5;124m'\u001b[39m\u001b[38;5;124m,\u001b[39m\u001b[38;5;124m'\u001b[39m,\u001b[38;5;124m'\u001b[39m\u001b[38;5;124m'\u001b[39m)\u001b[38;5;241m.\u001b[39mastype(\u001b[38;5;28mfloat\u001b[39m))\n\u001b[0;32m      3\u001b[0m dfIndexes\u001b[38;5;241m.\u001b[39mhead()\n",
      "File \u001b[1;32m~\\anaconda3\\Lib\\site-packages\\pandas\\core\\tools\\datetimes.py:1100\u001b[0m, in \u001b[0;36mto_datetime\u001b[1;34m(arg, errors, dayfirst, yearfirst, utc, format, exact, unit, infer_datetime_format, origin, cache)\u001b[0m\n\u001b[0;32m   1098\u001b[0m         result \u001b[38;5;241m=\u001b[39m _convert_and_box_cache(argc, cache_array)\n\u001b[0;32m   1099\u001b[0m     \u001b[38;5;28;01melse\u001b[39;00m:\n\u001b[1;32m-> 1100\u001b[0m         result \u001b[38;5;241m=\u001b[39m convert_listlike(argc, \u001b[38;5;28mformat\u001b[39m)\n\u001b[0;32m   1101\u001b[0m \u001b[38;5;28;01melse\u001b[39;00m:\n\u001b[0;32m   1102\u001b[0m     result \u001b[38;5;241m=\u001b[39m convert_listlike(np\u001b[38;5;241m.\u001b[39marray([arg]), \u001b[38;5;28mformat\u001b[39m)[\u001b[38;5;241m0\u001b[39m]\n",
      "File \u001b[1;32m~\\anaconda3\\Lib\\site-packages\\pandas\\core\\tools\\datetimes.py:438\u001b[0m, in \u001b[0;36m_convert_listlike_datetimes\u001b[1;34m(arg, format, name, tz, unit, errors, infer_datetime_format, dayfirst, yearfirst, exact)\u001b[0m\n\u001b[0;32m    436\u001b[0m \u001b[38;5;28;01massert\u001b[39;00m \u001b[38;5;28mformat\u001b[39m \u001b[38;5;129;01mis\u001b[39;00m \u001b[38;5;28;01mNone\u001b[39;00m \u001b[38;5;129;01mor\u001b[39;00m infer_datetime_format\n\u001b[0;32m    437\u001b[0m utc \u001b[38;5;241m=\u001b[39m tz \u001b[38;5;241m==\u001b[39m \u001b[38;5;124m\"\u001b[39m\u001b[38;5;124mutc\u001b[39m\u001b[38;5;124m\"\u001b[39m\n\u001b[1;32m--> 438\u001b[0m result, tz_parsed \u001b[38;5;241m=\u001b[39m objects_to_datetime64ns(\n\u001b[0;32m    439\u001b[0m     arg,\n\u001b[0;32m    440\u001b[0m     dayfirst\u001b[38;5;241m=\u001b[39mdayfirst,\n\u001b[0;32m    441\u001b[0m     yearfirst\u001b[38;5;241m=\u001b[39myearfirst,\n\u001b[0;32m    442\u001b[0m     utc\u001b[38;5;241m=\u001b[39mutc,\n\u001b[0;32m    443\u001b[0m     errors\u001b[38;5;241m=\u001b[39merrors,\n\u001b[0;32m    444\u001b[0m     require_iso8601\u001b[38;5;241m=\u001b[39mrequire_iso8601,\n\u001b[0;32m    445\u001b[0m     allow_object\u001b[38;5;241m=\u001b[39m\u001b[38;5;28;01mTrue\u001b[39;00m,\n\u001b[0;32m    446\u001b[0m )\n\u001b[0;32m    448\u001b[0m \u001b[38;5;28;01mif\u001b[39;00m tz_parsed \u001b[38;5;129;01mis\u001b[39;00m \u001b[38;5;129;01mnot\u001b[39;00m \u001b[38;5;28;01mNone\u001b[39;00m:\n\u001b[0;32m    449\u001b[0m     \u001b[38;5;66;03m# We can take a shortcut since the datetime64 numpy array\u001b[39;00m\n\u001b[0;32m    450\u001b[0m     \u001b[38;5;66;03m# is in UTC\u001b[39;00m\n\u001b[0;32m    451\u001b[0m     dta \u001b[38;5;241m=\u001b[39m DatetimeArray(result, dtype\u001b[38;5;241m=\u001b[39mtz_to_dtype(tz_parsed))\n",
      "File \u001b[1;32m~\\anaconda3\\Lib\\site-packages\\pandas\\core\\arrays\\datetimes.py:2177\u001b[0m, in \u001b[0;36mobjects_to_datetime64ns\u001b[1;34m(data, dayfirst, yearfirst, utc, errors, require_iso8601, allow_object, allow_mixed)\u001b[0m\n\u001b[0;32m   2175\u001b[0m order: Literal[\u001b[38;5;124m\"\u001b[39m\u001b[38;5;124mF\u001b[39m\u001b[38;5;124m\"\u001b[39m, \u001b[38;5;124m\"\u001b[39m\u001b[38;5;124mC\u001b[39m\u001b[38;5;124m\"\u001b[39m] \u001b[38;5;241m=\u001b[39m \u001b[38;5;124m\"\u001b[39m\u001b[38;5;124mF\u001b[39m\u001b[38;5;124m\"\u001b[39m \u001b[38;5;28;01mif\u001b[39;00m flags\u001b[38;5;241m.\u001b[39mf_contiguous \u001b[38;5;28;01melse\u001b[39;00m \u001b[38;5;124m\"\u001b[39m\u001b[38;5;124mC\u001b[39m\u001b[38;5;124m\"\u001b[39m\n\u001b[0;32m   2176\u001b[0m \u001b[38;5;28;01mtry\u001b[39;00m:\n\u001b[1;32m-> 2177\u001b[0m     result, tz_parsed \u001b[38;5;241m=\u001b[39m tslib\u001b[38;5;241m.\u001b[39marray_to_datetime(\n\u001b[0;32m   2178\u001b[0m         data\u001b[38;5;241m.\u001b[39mravel(\u001b[38;5;124m\"\u001b[39m\u001b[38;5;124mK\u001b[39m\u001b[38;5;124m\"\u001b[39m),\n\u001b[0;32m   2179\u001b[0m         errors\u001b[38;5;241m=\u001b[39merrors,\n\u001b[0;32m   2180\u001b[0m         utc\u001b[38;5;241m=\u001b[39mutc,\n\u001b[0;32m   2181\u001b[0m         dayfirst\u001b[38;5;241m=\u001b[39mdayfirst,\n\u001b[0;32m   2182\u001b[0m         yearfirst\u001b[38;5;241m=\u001b[39myearfirst,\n\u001b[0;32m   2183\u001b[0m         require_iso8601\u001b[38;5;241m=\u001b[39mrequire_iso8601,\n\u001b[0;32m   2184\u001b[0m         allow_mixed\u001b[38;5;241m=\u001b[39mallow_mixed,\n\u001b[0;32m   2185\u001b[0m     )\n\u001b[0;32m   2186\u001b[0m     result \u001b[38;5;241m=\u001b[39m result\u001b[38;5;241m.\u001b[39mreshape(data\u001b[38;5;241m.\u001b[39mshape, order\u001b[38;5;241m=\u001b[39morder)\n\u001b[0;32m   2187\u001b[0m \u001b[38;5;28;01mexcept\u001b[39;00m \u001b[38;5;167;01mOverflowError\u001b[39;00m \u001b[38;5;28;01mas\u001b[39;00m err:\n\u001b[0;32m   2188\u001b[0m     \u001b[38;5;66;03m# Exception is raised when a part of date is greater than 32 bit signed int\u001b[39;00m\n",
      "File \u001b[1;32m~\\anaconda3\\Lib\\site-packages\\pandas\\_libs\\tslib.pyx:427\u001b[0m, in \u001b[0;36mpandas._libs.tslib.array_to_datetime\u001b[1;34m()\u001b[0m\n",
      "File \u001b[1;32m~\\anaconda3\\Lib\\site-packages\\pandas\\_libs\\tslib.pyx:683\u001b[0m, in \u001b[0;36mpandas._libs.tslib.array_to_datetime\u001b[1;34m()\u001b[0m\n",
      "File \u001b[1;32m~\\anaconda3\\Lib\\site-packages\\pandas\\_libs\\tslib.pyx:829\u001b[0m, in \u001b[0;36mpandas._libs.tslib._array_to_datetime_object\u001b[1;34m()\u001b[0m\n",
      "File \u001b[1;32m~\\anaconda3\\Lib\\site-packages\\pandas\\_libs\\tslib.pyx:819\u001b[0m, in \u001b[0;36mpandas._libs.tslib._array_to_datetime_object\u001b[1;34m()\u001b[0m\n",
      "File \u001b[1;32m~\\anaconda3\\Lib\\site-packages\\pandas\\_libs\\tslibs\\parsing.pyx:318\u001b[0m, in \u001b[0;36mpandas._libs.tslibs.parsing.parse_datetime_string\u001b[1;34m()\u001b[0m\n",
      "File \u001b[1;32m~\\anaconda3\\Lib\\site-packages\\dateutil\\parser\\_parser.py:1368\u001b[0m, in \u001b[0;36mparse\u001b[1;34m(timestr, parserinfo, **kwargs)\u001b[0m\n\u001b[0;32m   1366\u001b[0m     \u001b[38;5;28;01mreturn\u001b[39;00m parser(parserinfo)\u001b[38;5;241m.\u001b[39mparse(timestr, \u001b[38;5;241m*\u001b[39m\u001b[38;5;241m*\u001b[39mkwargs)\n\u001b[0;32m   1367\u001b[0m \u001b[38;5;28;01melse\u001b[39;00m:\n\u001b[1;32m-> 1368\u001b[0m     \u001b[38;5;28;01mreturn\u001b[39;00m DEFAULTPARSER\u001b[38;5;241m.\u001b[39mparse(timestr, \u001b[38;5;241m*\u001b[39m\u001b[38;5;241m*\u001b[39mkwargs)\n",
      "File \u001b[1;32m~\\anaconda3\\Lib\\site-packages\\dateutil\\parser\\_parser.py:643\u001b[0m, in \u001b[0;36mparser.parse\u001b[1;34m(self, timestr, default, ignoretz, tzinfos, **kwargs)\u001b[0m\n\u001b[0;32m    640\u001b[0m res, skipped_tokens \u001b[38;5;241m=\u001b[39m \u001b[38;5;28mself\u001b[39m\u001b[38;5;241m.\u001b[39m_parse(timestr, \u001b[38;5;241m*\u001b[39m\u001b[38;5;241m*\u001b[39mkwargs)\n\u001b[0;32m    642\u001b[0m \u001b[38;5;28;01mif\u001b[39;00m res \u001b[38;5;129;01mis\u001b[39;00m \u001b[38;5;28;01mNone\u001b[39;00m:\n\u001b[1;32m--> 643\u001b[0m     \u001b[38;5;28;01mraise\u001b[39;00m ParserError(\u001b[38;5;124m\"\u001b[39m\u001b[38;5;124mUnknown string format: \u001b[39m\u001b[38;5;132;01m%s\u001b[39;00m\u001b[38;5;124m\"\u001b[39m, timestr)\n\u001b[0;32m    645\u001b[0m \u001b[38;5;28;01mif\u001b[39;00m \u001b[38;5;28mlen\u001b[39m(res) \u001b[38;5;241m==\u001b[39m \u001b[38;5;241m0\u001b[39m:\n\u001b[0;32m    646\u001b[0m     \u001b[38;5;28;01mraise\u001b[39;00m ParserError(\u001b[38;5;124m\"\u001b[39m\u001b[38;5;124mString does not contain a date: \u001b[39m\u001b[38;5;132;01m%s\u001b[39;00m\u001b[38;5;124m\"\u001b[39m, timestr)\n",
      "\u001b[1;31mParserError\u001b[0m: Unknown string format: S&P500 present at position 0"
     ]
    }
   ],
   "source": [
    "#need to work on this : convert str to float\n",
    "dfIndexes.index = dfIndexes.index.map(lambda d: pd.to_datetime(d).strftime('%Y-%m-%d'))\n",
    "dfIndexes = dfIndexes.apply(lambda index: index.str.replace(',','').astype(float))\n",
    "dfIndexes.head()\n"
   ]
  },
  {
   "cell_type": "code",
   "execution_count": null,
   "id": "e0636331-3c66-49f7-b8be-fdbfa756a4f4",
   "metadata": {},
   "outputs": [],
   "source": []
  },
  {
   "cell_type": "markdown",
   "id": "0225affc-234d-41da-adbf-781b591ffaa2",
   "metadata": {
    "tags": []
   },
   "source": [
    "dfStocks = pd.concat((dfAAPL, dfAMZN, dfBMY, dfCHTR, dfCL, dfCMCSA, dfGOOG, dfJNJ, dfKO, dfLLY, dfMETA, dfMRK, dfMSFT, dfPEP, dfPFE, dfPG, dfT, dfTMUS, dfVZ, dfWMT), join = 'inner', keys = ['AAPL', 'AMZN', 'BMY', 'CHTR', 'CL', 'CMCSA', 'GOOG', 'JNJ', 'KO', 'LLY', 'META', 'MRK', 'MSFT', 'PEP', 'PFE', 'PG', 'T', 'TMUS', 'VZ', 'WMT'], axis = 1)"
   ]
  },
  {
   "cell_type": "code",
   "execution_count": 49,
   "id": "287c798a",
   "metadata": {
    "tags": []
   },
   "outputs": [
    {
     "data": {
      "text/html": [
       "<div>\n",
       "<style scoped>\n",
       "    .dataframe tbody tr th:only-of-type {\n",
       "        vertical-align: middle;\n",
       "    }\n",
       "\n",
       "    .dataframe tbody tr th {\n",
       "        vertical-align: top;\n",
       "    }\n",
       "\n",
       "    .dataframe thead tr th {\n",
       "        text-align: left;\n",
       "    }\n",
       "\n",
       "    .dataframe thead tr:last-of-type th {\n",
       "        text-align: right;\n",
       "    }\n",
       "</style>\n",
       "<table border=\"1\" class=\"dataframe\">\n",
       "  <thead>\n",
       "    <tr>\n",
       "      <th></th>\n",
       "      <th colspan=\"6\" halign=\"left\">AAPL</th>\n",
       "      <th colspan=\"4\" halign=\"left\">AMZN</th>\n",
       "      <th>...</th>\n",
       "      <th colspan=\"4\" halign=\"left\">VZ</th>\n",
       "      <th colspan=\"6\" halign=\"left\">WMT</th>\n",
       "    </tr>\n",
       "    <tr>\n",
       "      <th></th>\n",
       "      <th>Open</th>\n",
       "      <th>High</th>\n",
       "      <th>Low</th>\n",
       "      <th>Close</th>\n",
       "      <th>Adj Close</th>\n",
       "      <th>Volume</th>\n",
       "      <th>Open</th>\n",
       "      <th>High</th>\n",
       "      <th>Low</th>\n",
       "      <th>Close</th>\n",
       "      <th>...</th>\n",
       "      <th>Low</th>\n",
       "      <th>Close</th>\n",
       "      <th>Adj Close</th>\n",
       "      <th>Volume</th>\n",
       "      <th>Open</th>\n",
       "      <th>High</th>\n",
       "      <th>Low</th>\n",
       "      <th>Close</th>\n",
       "      <th>Adj Close</th>\n",
       "      <th>Volume</th>\n",
       "    </tr>\n",
       "    <tr>\n",
       "      <th>Date</th>\n",
       "      <th></th>\n",
       "      <th></th>\n",
       "      <th></th>\n",
       "      <th></th>\n",
       "      <th></th>\n",
       "      <th></th>\n",
       "      <th></th>\n",
       "      <th></th>\n",
       "      <th></th>\n",
       "      <th></th>\n",
       "      <th></th>\n",
       "      <th></th>\n",
       "      <th></th>\n",
       "      <th></th>\n",
       "      <th></th>\n",
       "      <th></th>\n",
       "      <th></th>\n",
       "      <th></th>\n",
       "      <th></th>\n",
       "      <th></th>\n",
       "      <th></th>\n",
       "    </tr>\n",
       "  </thead>\n",
       "  <tbody>\n",
       "    <tr>\n",
       "      <th>2019-10-24</th>\n",
       "      <td>61.13</td>\n",
       "      <td>61.20</td>\n",
       "      <td>60.45</td>\n",
       "      <td>60.90</td>\n",
       "      <td>59.23</td>\n",
       "      <td>69275200</td>\n",
       "      <td>88.55</td>\n",
       "      <td>89.42</td>\n",
       "      <td>88.01</td>\n",
       "      <td>89.04</td>\n",
       "      <td>...</td>\n",
       "      <td>60.41</td>\n",
       "      <td>60.58</td>\n",
       "      <td>49.04</td>\n",
       "      <td>11143800</td>\n",
       "      <td>119.15</td>\n",
       "      <td>119.57</td>\n",
       "      <td>118.51</td>\n",
       "      <td>119.10</td>\n",
       "      <td>111.73</td>\n",
       "      <td>2900300</td>\n",
       "    </tr>\n",
       "    <tr>\n",
       "      <th>2019-10-25</th>\n",
       "      <td>60.79</td>\n",
       "      <td>61.68</td>\n",
       "      <td>60.72</td>\n",
       "      <td>61.64</td>\n",
       "      <td>59.96</td>\n",
       "      <td>73477200</td>\n",
       "      <td>84.88</td>\n",
       "      <td>88.21</td>\n",
       "      <td>84.75</td>\n",
       "      <td>88.07</td>\n",
       "      <td>...</td>\n",
       "      <td>59.21</td>\n",
       "      <td>60.37</td>\n",
       "      <td>48.87</td>\n",
       "      <td>15036400</td>\n",
       "      <td>119.00</td>\n",
       "      <td>119.33</td>\n",
       "      <td>118.20</td>\n",
       "      <td>119.04</td>\n",
       "      <td>111.68</td>\n",
       "      <td>2564300</td>\n",
       "    </tr>\n",
       "    <tr>\n",
       "      <th>2019-10-28</th>\n",
       "      <td>61.86</td>\n",
       "      <td>62.31</td>\n",
       "      <td>61.68</td>\n",
       "      <td>62.26</td>\n",
       "      <td>60.56</td>\n",
       "      <td>96572800</td>\n",
       "      <td>87.40</td>\n",
       "      <td>88.93</td>\n",
       "      <td>87.12</td>\n",
       "      <td>88.85</td>\n",
       "      <td>...</td>\n",
       "      <td>60.04</td>\n",
       "      <td>60.18</td>\n",
       "      <td>48.72</td>\n",
       "      <td>14621400</td>\n",
       "      <td>119.25</td>\n",
       "      <td>119.70</td>\n",
       "      <td>118.53</td>\n",
       "      <td>119.22</td>\n",
       "      <td>111.85</td>\n",
       "      <td>3404600</td>\n",
       "    </tr>\n",
       "    <tr>\n",
       "      <th>2019-10-29</th>\n",
       "      <td>62.24</td>\n",
       "      <td>62.44</td>\n",
       "      <td>60.64</td>\n",
       "      <td>60.82</td>\n",
       "      <td>59.16</td>\n",
       "      <td>142839600</td>\n",
       "      <td>88.74</td>\n",
       "      <td>88.85</td>\n",
       "      <td>87.79</td>\n",
       "      <td>88.14</td>\n",
       "      <td>...</td>\n",
       "      <td>60.07</td>\n",
       "      <td>60.19</td>\n",
       "      <td>48.73</td>\n",
       "      <td>10619900</td>\n",
       "      <td>118.50</td>\n",
       "      <td>118.73</td>\n",
       "      <td>117.08</td>\n",
       "      <td>117.15</td>\n",
       "      <td>109.91</td>\n",
       "      <td>4791100</td>\n",
       "    </tr>\n",
       "    <tr>\n",
       "      <th>2019-10-30</th>\n",
       "      <td>61.19</td>\n",
       "      <td>61.33</td>\n",
       "      <td>60.30</td>\n",
       "      <td>60.81</td>\n",
       "      <td>59.15</td>\n",
       "      <td>124522000</td>\n",
       "      <td>88.01</td>\n",
       "      <td>89.12</td>\n",
       "      <td>87.96</td>\n",
       "      <td>89.00</td>\n",
       "      <td>...</td>\n",
       "      <td>60.41</td>\n",
       "      <td>60.82</td>\n",
       "      <td>49.24</td>\n",
       "      <td>12136500</td>\n",
       "      <td>117.18</td>\n",
       "      <td>118.37</td>\n",
       "      <td>117.05</td>\n",
       "      <td>118.10</td>\n",
       "      <td>110.80</td>\n",
       "      <td>2996200</td>\n",
       "    </tr>\n",
       "  </tbody>\n",
       "</table>\n",
       "<p>5 rows × 120 columns</p>\n",
       "</div>"
      ],
      "text/plain": [
       "             AAPL                                             AMZN         \\\n",
       "             Open   High    Low  Close Adj Close     Volume   Open   High   \n",
       "Date                                                                        \n",
       "2019-10-24  61.13  61.20  60.45  60.90     59.23   69275200  88.55  89.42   \n",
       "2019-10-25  60.79  61.68  60.72  61.64     59.96   73477200  84.88  88.21   \n",
       "2019-10-28  61.86  62.31  61.68  62.26     60.56   96572800  87.40  88.93   \n",
       "2019-10-29  62.24  62.44  60.64  60.82     59.16  142839600  88.74  88.85   \n",
       "2019-10-30  61.19  61.33  60.30  60.81     59.15  124522000  88.01  89.12   \n",
       "\n",
       "                          ...     VZ                                WMT  \\\n",
       "              Low  Close  ...    Low  Close Adj Close    Volume    Open   \n",
       "Date                      ...                                             \n",
       "2019-10-24  88.01  89.04  ...  60.41  60.58     49.04  11143800  119.15   \n",
       "2019-10-25  84.75  88.07  ...  59.21  60.37     48.87  15036400  119.00   \n",
       "2019-10-28  87.12  88.85  ...  60.04  60.18     48.72  14621400  119.25   \n",
       "2019-10-29  87.79  88.14  ...  60.07  60.19     48.73  10619900  118.50   \n",
       "2019-10-30  87.96  89.00  ...  60.41  60.82     49.24  12136500  117.18   \n",
       "\n",
       "                                                       \n",
       "              High     Low   Close Adj Close   Volume  \n",
       "Date                                                   \n",
       "2019-10-24  119.57  118.51  119.10    111.73  2900300  \n",
       "2019-10-25  119.33  118.20  119.04    111.68  2564300  \n",
       "2019-10-28  119.70  118.53  119.22    111.85  3404600  \n",
       "2019-10-29  118.73  117.08  117.15    109.91  4791100  \n",
       "2019-10-30  118.37  117.05  118.10    110.80  2996200  \n",
       "\n",
       "[5 rows x 120 columns]"
      ]
     },
     "execution_count": 49,
     "metadata": {},
     "output_type": "execute_result"
    }
   ],
   "source": [
    "dfStocks = dfStocks.round(2)\n",
    "dfStocks.head()"
   ]
  },
  {
   "cell_type": "code",
   "execution_count": 50,
   "id": "34b15406",
   "metadata": {
    "tags": []
   },
   "outputs": [],
   "source": [
    "dataset = dfStocks.join(dfIndexes)\n",
    "dataset = pd.merge(dfStocks, dfIndexes, on = 'Date', how ='inner')"
   ]
  },
  {
   "cell_type": "code",
   "execution_count": 51,
   "id": "86ccc6f5",
   "metadata": {
    "tags": []
   },
   "outputs": [
    {
     "data": {
      "text/html": [
       "<div>\n",
       "<style scoped>\n",
       "    .dataframe tbody tr th:only-of-type {\n",
       "        vertical-align: middle;\n",
       "    }\n",
       "\n",
       "    .dataframe tbody tr th {\n",
       "        vertical-align: top;\n",
       "    }\n",
       "\n",
       "    .dataframe thead tr th {\n",
       "        text-align: left;\n",
       "    }\n",
       "\n",
       "    .dataframe thead tr:last-of-type th {\n",
       "        text-align: right;\n",
       "    }\n",
       "</style>\n",
       "<table border=\"1\" class=\"dataframe\">\n",
       "  <thead>\n",
       "    <tr>\n",
       "      <th></th>\n",
       "      <th colspan=\"6\" halign=\"left\">AAPL</th>\n",
       "      <th colspan=\"4\" halign=\"left\">AMZN</th>\n",
       "      <th>...</th>\n",
       "      <th colspan=\"2\" halign=\"left\">WMT</th>\n",
       "      <th colspan=\"4\" halign=\"left\">S&amp;P500</th>\n",
       "      <th colspan=\"4\" halign=\"left\">DJIA30</th>\n",
       "    </tr>\n",
       "    <tr>\n",
       "      <th></th>\n",
       "      <th>Open</th>\n",
       "      <th>High</th>\n",
       "      <th>Low</th>\n",
       "      <th>Close</th>\n",
       "      <th>Adj Close</th>\n",
       "      <th>Volume</th>\n",
       "      <th>Open</th>\n",
       "      <th>High</th>\n",
       "      <th>Low</th>\n",
       "      <th>Close</th>\n",
       "      <th>...</th>\n",
       "      <th>Adj Close</th>\n",
       "      <th>Volume</th>\n",
       "      <th>Open</th>\n",
       "      <th>High</th>\n",
       "      <th>Low</th>\n",
       "      <th>Close</th>\n",
       "      <th>Open</th>\n",
       "      <th>High</th>\n",
       "      <th>Low</th>\n",
       "      <th>Close</th>\n",
       "    </tr>\n",
       "    <tr>\n",
       "      <th>Date</th>\n",
       "      <th></th>\n",
       "      <th></th>\n",
       "      <th></th>\n",
       "      <th></th>\n",
       "      <th></th>\n",
       "      <th></th>\n",
       "      <th></th>\n",
       "      <th></th>\n",
       "      <th></th>\n",
       "      <th></th>\n",
       "      <th></th>\n",
       "      <th></th>\n",
       "      <th></th>\n",
       "      <th></th>\n",
       "      <th></th>\n",
       "      <th></th>\n",
       "      <th></th>\n",
       "      <th></th>\n",
       "      <th></th>\n",
       "      <th></th>\n",
       "      <th></th>\n",
       "    </tr>\n",
       "  </thead>\n",
       "  <tbody>\n",
       "    <tr>\n",
       "      <th>2019-10-24</th>\n",
       "      <td>61.13</td>\n",
       "      <td>61.20</td>\n",
       "      <td>60.45</td>\n",
       "      <td>60.90</td>\n",
       "      <td>59.23</td>\n",
       "      <td>69275200</td>\n",
       "      <td>88.55</td>\n",
       "      <td>89.42</td>\n",
       "      <td>88.01</td>\n",
       "      <td>89.04</td>\n",
       "      <td>...</td>\n",
       "      <td>111.73</td>\n",
       "      <td>2900300</td>\n",
       "      <td>3,014.78</td>\n",
       "      <td>3,016.07</td>\n",
       "      <td>3,000.42</td>\n",
       "      <td>3,010.29</td>\n",
       "      <td>26,893.93</td>\n",
       "      <td>26,931.78</td>\n",
       "      <td>26,714.34</td>\n",
       "      <td>26,805.53</td>\n",
       "    </tr>\n",
       "    <tr>\n",
       "      <th>2019-10-25</th>\n",
       "      <td>60.79</td>\n",
       "      <td>61.68</td>\n",
       "      <td>60.72</td>\n",
       "      <td>61.64</td>\n",
       "      <td>59.96</td>\n",
       "      <td>73477200</td>\n",
       "      <td>84.88</td>\n",
       "      <td>88.21</td>\n",
       "      <td>84.75</td>\n",
       "      <td>88.07</td>\n",
       "      <td>...</td>\n",
       "      <td>111.68</td>\n",
       "      <td>2564300</td>\n",
       "      <td>3,003.32</td>\n",
       "      <td>3,027.39</td>\n",
       "      <td>3,001.94</td>\n",
       "      <td>3,022.55</td>\n",
       "      <td>26,789.61</td>\n",
       "      <td>27,015.37</td>\n",
       "      <td>26,765.68</td>\n",
       "      <td>26,958.06</td>\n",
       "    </tr>\n",
       "    <tr>\n",
       "      <th>2019-10-28</th>\n",
       "      <td>61.86</td>\n",
       "      <td>62.31</td>\n",
       "      <td>61.68</td>\n",
       "      <td>62.26</td>\n",
       "      <td>60.56</td>\n",
       "      <td>96572800</td>\n",
       "      <td>87.40</td>\n",
       "      <td>88.93</td>\n",
       "      <td>87.12</td>\n",
       "      <td>88.85</td>\n",
       "      <td>...</td>\n",
       "      <td>111.85</td>\n",
       "      <td>3404600</td>\n",
       "      <td>3,032.12</td>\n",
       "      <td>3,044.08</td>\n",
       "      <td>3,032.12</td>\n",
       "      <td>3,039.42</td>\n",
       "      <td>27,040.33</td>\n",
       "      <td>27,167.88</td>\n",
       "      <td>27,028.71</td>\n",
       "      <td>27,090.72</td>\n",
       "    </tr>\n",
       "    <tr>\n",
       "      <th>2019-10-29</th>\n",
       "      <td>62.24</td>\n",
       "      <td>62.44</td>\n",
       "      <td>60.64</td>\n",
       "      <td>60.82</td>\n",
       "      <td>59.16</td>\n",
       "      <td>142839600</td>\n",
       "      <td>88.74</td>\n",
       "      <td>88.85</td>\n",
       "      <td>87.79</td>\n",
       "      <td>88.14</td>\n",
       "      <td>...</td>\n",
       "      <td>109.91</td>\n",
       "      <td>4791100</td>\n",
       "      <td>3,035.39</td>\n",
       "      <td>3,047.87</td>\n",
       "      <td>3,034.81</td>\n",
       "      <td>3,036.89</td>\n",
       "      <td>27,061.07</td>\n",
       "      <td>27,165.94</td>\n",
       "      <td>27,039.76</td>\n",
       "      <td>27,071.42</td>\n",
       "    </tr>\n",
       "    <tr>\n",
       "      <th>2019-10-30</th>\n",
       "      <td>61.19</td>\n",
       "      <td>61.33</td>\n",
       "      <td>60.30</td>\n",
       "      <td>60.81</td>\n",
       "      <td>59.15</td>\n",
       "      <td>124522000</td>\n",
       "      <td>88.01</td>\n",
       "      <td>89.12</td>\n",
       "      <td>87.96</td>\n",
       "      <td>89.00</td>\n",
       "      <td>...</td>\n",
       "      <td>110.80</td>\n",
       "      <td>2996200</td>\n",
       "      <td>3,039.74</td>\n",
       "      <td>3,050.10</td>\n",
       "      <td>3,025.96</td>\n",
       "      <td>3,046.77</td>\n",
       "      <td>27,110.71</td>\n",
       "      <td>27,204.36</td>\n",
       "      <td>26,999.64</td>\n",
       "      <td>27,186.69</td>\n",
       "    </tr>\n",
       "    <tr>\n",
       "      <th>...</th>\n",
       "      <td>...</td>\n",
       "      <td>...</td>\n",
       "      <td>...</td>\n",
       "      <td>...</td>\n",
       "      <td>...</td>\n",
       "      <td>...</td>\n",
       "      <td>...</td>\n",
       "      <td>...</td>\n",
       "      <td>...</td>\n",
       "      <td>...</td>\n",
       "      <td>...</td>\n",
       "      <td>...</td>\n",
       "      <td>...</td>\n",
       "      <td>...</td>\n",
       "      <td>...</td>\n",
       "      <td>...</td>\n",
       "      <td>...</td>\n",
       "      <td>...</td>\n",
       "      <td>...</td>\n",
       "      <td>...</td>\n",
       "      <td>...</td>\n",
       "    </tr>\n",
       "    <tr>\n",
       "      <th>2023-10-16</th>\n",
       "      <td>176.75</td>\n",
       "      <td>179.08</td>\n",
       "      <td>176.51</td>\n",
       "      <td>178.72</td>\n",
       "      <td>178.72</td>\n",
       "      <td>52517000</td>\n",
       "      <td>130.69</td>\n",
       "      <td>133.07</td>\n",
       "      <td>130.43</td>\n",
       "      <td>132.55</td>\n",
       "      <td>...</td>\n",
       "      <td>161.21</td>\n",
       "      <td>4782700</td>\n",
       "      <td>4,342.37</td>\n",
       "      <td>4,383.33</td>\n",
       "      <td>4,342.37</td>\n",
       "      <td>4,373.63</td>\n",
       "      <td>33,832.42</td>\n",
       "      <td>34,088.98</td>\n",
       "      <td>33,832.42</td>\n",
       "      <td>33,984.54</td>\n",
       "    </tr>\n",
       "    <tr>\n",
       "      <th>2023-10-17</th>\n",
       "      <td>176.65</td>\n",
       "      <td>178.42</td>\n",
       "      <td>174.80</td>\n",
       "      <td>177.15</td>\n",
       "      <td>177.15</td>\n",
       "      <td>57549400</td>\n",
       "      <td>130.39</td>\n",
       "      <td>132.58</td>\n",
       "      <td>128.71</td>\n",
       "      <td>131.47</td>\n",
       "      <td>...</td>\n",
       "      <td>161.42</td>\n",
       "      <td>3631000</td>\n",
       "      <td>4,345.23</td>\n",
       "      <td>4,393.57</td>\n",
       "      <td>4,337.54</td>\n",
       "      <td>4,373.20</td>\n",
       "      <td>33,869.84</td>\n",
       "      <td>34,147.63</td>\n",
       "      <td>33,854.70</td>\n",
       "      <td>33,997.65</td>\n",
       "    </tr>\n",
       "    <tr>\n",
       "      <th>2023-10-18</th>\n",
       "      <td>175.58</td>\n",
       "      <td>177.58</td>\n",
       "      <td>175.11</td>\n",
       "      <td>175.84</td>\n",
       "      <td>175.84</td>\n",
       "      <td>54764400</td>\n",
       "      <td>129.90</td>\n",
       "      <td>130.67</td>\n",
       "      <td>127.51</td>\n",
       "      <td>128.13</td>\n",
       "      <td>...</td>\n",
       "      <td>161.54</td>\n",
       "      <td>3519700</td>\n",
       "      <td>4,357.35</td>\n",
       "      <td>4,364.20</td>\n",
       "      <td>4,303.84</td>\n",
       "      <td>4,314.60</td>\n",
       "      <td>33,960.25</td>\n",
       "      <td>33,991.51</td>\n",
       "      <td>33,598.64</td>\n",
       "      <td>33,665.08</td>\n",
       "    </tr>\n",
       "    <tr>\n",
       "      <th>2023-10-19</th>\n",
       "      <td>176.04</td>\n",
       "      <td>177.84</td>\n",
       "      <td>175.19</td>\n",
       "      <td>175.46</td>\n",
       "      <td>175.46</td>\n",
       "      <td>59302900</td>\n",
       "      <td>130.57</td>\n",
       "      <td>132.24</td>\n",
       "      <td>127.47</td>\n",
       "      <td>128.40</td>\n",
       "      <td>...</td>\n",
       "      <td>160.77</td>\n",
       "      <td>3915300</td>\n",
       "      <td>4,321.36</td>\n",
       "      <td>4,339.54</td>\n",
       "      <td>4,269.69</td>\n",
       "      <td>4,278.00</td>\n",
       "      <td>33,669.52</td>\n",
       "      <td>33,852.39</td>\n",
       "      <td>33,368.58</td>\n",
       "      <td>33,414.17</td>\n",
       "    </tr>\n",
       "    <tr>\n",
       "      <th>2023-10-20</th>\n",
       "      <td>175.31</td>\n",
       "      <td>175.42</td>\n",
       "      <td>172.64</td>\n",
       "      <td>172.88</td>\n",
       "      <td>172.88</td>\n",
       "      <td>64189300</td>\n",
       "      <td>128.05</td>\n",
       "      <td>128.17</td>\n",
       "      <td>124.97</td>\n",
       "      <td>125.17</td>\n",
       "      <td>...</td>\n",
       "      <td>158.76</td>\n",
       "      <td>5018900</td>\n",
       "      <td>4,273.85</td>\n",
       "      <td>4,276.56</td>\n",
       "      <td>4,223.03</td>\n",
       "      <td>4,224.16</td>\n",
       "      <td>33,365.27</td>\n",
       "      <td>33,425.77</td>\n",
       "      <td>33,118.12</td>\n",
       "      <td>33,127.28</td>\n",
       "    </tr>\n",
       "  </tbody>\n",
       "</table>\n",
       "<p>1005 rows × 128 columns</p>\n",
       "</div>"
      ],
      "text/plain": [
       "              AAPL                                                 AMZN  \\\n",
       "              Open    High     Low   Close Adj Close     Volume    Open   \n",
       "Date                                                                      \n",
       "2019-10-24   61.13   61.20   60.45   60.90     59.23   69275200   88.55   \n",
       "2019-10-25   60.79   61.68   60.72   61.64     59.96   73477200   84.88   \n",
       "2019-10-28   61.86   62.31   61.68   62.26     60.56   96572800   87.40   \n",
       "2019-10-29   62.24   62.44   60.64   60.82     59.16  142839600   88.74   \n",
       "2019-10-30   61.19   61.33   60.30   60.81     59.15  124522000   88.01   \n",
       "...            ...     ...     ...     ...       ...        ...     ...   \n",
       "2023-10-16  176.75  179.08  176.51  178.72    178.72   52517000  130.69   \n",
       "2023-10-17  176.65  178.42  174.80  177.15    177.15   57549400  130.39   \n",
       "2023-10-18  175.58  177.58  175.11  175.84    175.84   54764400  129.90   \n",
       "2023-10-19  176.04  177.84  175.19  175.46    175.46   59302900  130.57   \n",
       "2023-10-20  175.31  175.42  172.64  172.88    172.88   64189300  128.05   \n",
       "\n",
       "                                    ...       WMT             S&P500  \\\n",
       "              High     Low   Close  ... Adj Close   Volume      Open   \n",
       "Date                                ...                                \n",
       "2019-10-24   89.42   88.01   89.04  ...    111.73  2900300  3,014.78   \n",
       "2019-10-25   88.21   84.75   88.07  ...    111.68  2564300  3,003.32   \n",
       "2019-10-28   88.93   87.12   88.85  ...    111.85  3404600  3,032.12   \n",
       "2019-10-29   88.85   87.79   88.14  ...    109.91  4791100  3,035.39   \n",
       "2019-10-30   89.12   87.96   89.00  ...    110.80  2996200  3,039.74   \n",
       "...            ...     ...     ...  ...       ...      ...       ...   \n",
       "2023-10-16  133.07  130.43  132.55  ...    161.21  4782700  4,342.37   \n",
       "2023-10-17  132.58  128.71  131.47  ...    161.42  3631000  4,345.23   \n",
       "2023-10-18  130.67  127.51  128.13  ...    161.54  3519700  4,357.35   \n",
       "2023-10-19  132.24  127.47  128.40  ...    160.77  3915300  4,321.36   \n",
       "2023-10-20  128.17  124.97  125.17  ...    158.76  5018900  4,273.85   \n",
       "\n",
       "                                             DJIA30                        \\\n",
       "                High       Low     Close       Open       High        Low   \n",
       "Date                                                                        \n",
       "2019-10-24  3,016.07  3,000.42  3,010.29  26,893.93  26,931.78  26,714.34   \n",
       "2019-10-25  3,027.39  3,001.94  3,022.55  26,789.61  27,015.37  26,765.68   \n",
       "2019-10-28  3,044.08  3,032.12  3,039.42  27,040.33  27,167.88  27,028.71   \n",
       "2019-10-29  3,047.87  3,034.81  3,036.89  27,061.07  27,165.94  27,039.76   \n",
       "2019-10-30  3,050.10  3,025.96  3,046.77  27,110.71  27,204.36  26,999.64   \n",
       "...              ...       ...       ...        ...        ...        ...   \n",
       "2023-10-16  4,383.33  4,342.37  4,373.63  33,832.42  34,088.98  33,832.42   \n",
       "2023-10-17  4,393.57  4,337.54  4,373.20  33,869.84  34,147.63  33,854.70   \n",
       "2023-10-18  4,364.20  4,303.84  4,314.60  33,960.25  33,991.51  33,598.64   \n",
       "2023-10-19  4,339.54  4,269.69  4,278.00  33,669.52  33,852.39  33,368.58   \n",
       "2023-10-20  4,276.56  4,223.03  4,224.16  33,365.27  33,425.77  33,118.12   \n",
       "\n",
       "                       \n",
       "                Close  \n",
       "Date                   \n",
       "2019-10-24  26,805.53  \n",
       "2019-10-25  26,958.06  \n",
       "2019-10-28  27,090.72  \n",
       "2019-10-29  27,071.42  \n",
       "2019-10-30  27,186.69  \n",
       "...               ...  \n",
       "2023-10-16  33,984.54  \n",
       "2023-10-17  33,997.65  \n",
       "2023-10-18  33,665.08  \n",
       "2023-10-19  33,414.17  \n",
       "2023-10-20  33,127.28  \n",
       "\n",
       "[1005 rows x 128 columns]"
      ]
     },
     "execution_count": 51,
     "metadata": {},
     "output_type": "execute_result"
    }
   ],
   "source": [
    "dataset"
   ]
  },
  {
   "cell_type": "markdown",
   "id": "4718e624-0288-4057-aae8-9ef2a8b8dc35",
   "metadata": {},
   "source": [
    "# Data Processing\n",
    "## Calculating relative indexes of each sector"
   ]
  },
  {
   "cell_type": "markdown",
   "id": "8f44e364-fd80-49c0-9a72-c474ab3f6a74",
   "metadata": {},
   "source": [
    "Calculating relative index for tech stock"
   ]
  },
  {
   "cell_type": "code",
   "execution_count": 52,
   "id": "ed235722",
   "metadata": {
    "tags": []
   },
   "outputs": [
    {
     "data": {
      "text/html": [
       "<div>\n",
       "<style scoped>\n",
       "    .dataframe tbody tr th:only-of-type {\n",
       "        vertical-align: middle;\n",
       "    }\n",
       "\n",
       "    .dataframe tbody tr th {\n",
       "        vertical-align: top;\n",
       "    }\n",
       "\n",
       "    .dataframe thead th {\n",
       "        text-align: right;\n",
       "    }\n",
       "</style>\n",
       "<table border=\"1\" class=\"dataframe\">\n",
       "  <thead>\n",
       "    <tr style=\"text-align: right;\">\n",
       "      <th></th>\n",
       "      <th>APPL</th>\n",
       "      <th>AMZN</th>\n",
       "      <th>GOOG</th>\n",
       "      <th>META</th>\n",
       "      <th>MSFT</th>\n",
       "      <th>S&amp;P500</th>\n",
       "      <th>TechIndex</th>\n",
       "    </tr>\n",
       "    <tr>\n",
       "      <th>Date</th>\n",
       "      <th></th>\n",
       "      <th></th>\n",
       "      <th></th>\n",
       "      <th></th>\n",
       "      <th></th>\n",
       "      <th></th>\n",
       "      <th></th>\n",
       "    </tr>\n",
       "  </thead>\n",
       "  <tbody>\n",
       "    <tr>\n",
       "      <th>2019-10-24</th>\n",
       "      <td>60.90</td>\n",
       "      <td>89.04</td>\n",
       "      <td>63.05</td>\n",
       "      <td>186.38</td>\n",
       "      <td>139.94</td>\n",
       "      <td>3,010.29</td>\n",
       "      <td>107.862</td>\n",
       "    </tr>\n",
       "    <tr>\n",
       "      <th>2019-10-25</th>\n",
       "      <td>61.64</td>\n",
       "      <td>88.07</td>\n",
       "      <td>63.26</td>\n",
       "      <td>187.89</td>\n",
       "      <td>140.73</td>\n",
       "      <td>3,022.55</td>\n",
       "      <td>108.318</td>\n",
       "    </tr>\n",
       "    <tr>\n",
       "      <th>2019-10-28</th>\n",
       "      <td>62.26</td>\n",
       "      <td>88.85</td>\n",
       "      <td>64.50</td>\n",
       "      <td>189.40</td>\n",
       "      <td>144.19</td>\n",
       "      <td>3,039.42</td>\n",
       "      <td>109.840</td>\n",
       "    </tr>\n",
       "    <tr>\n",
       "      <th>2019-10-29</th>\n",
       "      <td>60.82</td>\n",
       "      <td>88.14</td>\n",
       "      <td>63.13</td>\n",
       "      <td>189.31</td>\n",
       "      <td>142.83</td>\n",
       "      <td>3,036.89</td>\n",
       "      <td>108.846</td>\n",
       "    </tr>\n",
       "    <tr>\n",
       "      <th>2019-10-30</th>\n",
       "      <td>60.81</td>\n",
       "      <td>89.00</td>\n",
       "      <td>63.06</td>\n",
       "      <td>188.25</td>\n",
       "      <td>144.61</td>\n",
       "      <td>3,046.77</td>\n",
       "      <td>109.146</td>\n",
       "    </tr>\n",
       "  </tbody>\n",
       "</table>\n",
       "</div>"
      ],
      "text/plain": [
       "             APPL   AMZN   GOOG    META    MSFT    S&P500  TechIndex\n",
       "Date                                                                \n",
       "2019-10-24  60.90  89.04  63.05  186.38  139.94  3,010.29    107.862\n",
       "2019-10-25  61.64  88.07  63.26  187.89  140.73  3,022.55    108.318\n",
       "2019-10-28  62.26  88.85  64.50  189.40  144.19  3,039.42    109.840\n",
       "2019-10-29  60.82  88.14  63.13  189.31  142.83  3,036.89    108.846\n",
       "2019-10-30  60.81  89.00  63.06  188.25  144.61  3,046.77    109.146"
      ]
     },
     "execution_count": 52,
     "metadata": {},
     "output_type": "execute_result"
    }
   ],
   "source": [
    "tech_stock_df = pd.concat((dataset.AAPL.Close,dataset.AMZN.Close,dataset.GOOG.Close,dataset.META.Close,dataset.MSFT.Close,dataset['S&P500'].Close),join = 'inner',keys=['AAPL','AMZN','GOOG','META','MSFT','S&P500'],axis=1)\n",
    "tech_stock_df['TechIndex'] = 0.2*tech_stock_df.APPL+0.2*tech_stock_df.AMZN+0.2*tech_stock_df.GOOG+0.2*tech_stock_df.META+0.2*tech_stock_df.MSFT\n",
    "tech_stock_df.head()"
   ]
  },
  {
   "cell_type": "markdown",
   "id": "3bf1fa5c-9f8b-4ad3-b4af-15a262c8e884",
   "metadata": {},
   "source": [
    "Calculating relative index for pharma stock"
   ]
  },
  {
   "cell_type": "code",
   "execution_count": 53,
   "id": "83fd7514-af87-45b1-9432-c65da16d34ca",
   "metadata": {
    "tags": []
   },
   "outputs": [
    {
     "data": {
      "text/html": [
       "<div>\n",
       "<style scoped>\n",
       "    .dataframe tbody tr th:only-of-type {\n",
       "        vertical-align: middle;\n",
       "    }\n",
       "\n",
       "    .dataframe tbody tr th {\n",
       "        vertical-align: top;\n",
       "    }\n",
       "\n",
       "    .dataframe thead th {\n",
       "        text-align: right;\n",
       "    }\n",
       "</style>\n",
       "<table border=\"1\" class=\"dataframe\">\n",
       "  <thead>\n",
       "    <tr style=\"text-align: right;\">\n",
       "      <th></th>\n",
       "      <th>JNJ</th>\n",
       "      <th>PFE</th>\n",
       "      <th>MRK</th>\n",
       "      <th>BMY</th>\n",
       "      <th>LLY</th>\n",
       "      <th>PharmaIndex</th>\n",
       "    </tr>\n",
       "    <tr>\n",
       "      <th>Date</th>\n",
       "      <th></th>\n",
       "      <th></th>\n",
       "      <th></th>\n",
       "      <th></th>\n",
       "      <th></th>\n",
       "      <th></th>\n",
       "    </tr>\n",
       "  </thead>\n",
       "  <tbody>\n",
       "    <tr>\n",
       "      <th>2019-10-24</th>\n",
       "      <td>127.50</td>\n",
       "      <td>34.53</td>\n",
       "      <td>78.80</td>\n",
       "      <td>54.37</td>\n",
       "      <td>107.84</td>\n",
       "      <td>80.608</td>\n",
       "    </tr>\n",
       "    <tr>\n",
       "      <th>2019-10-25</th>\n",
       "      <td>128.35</td>\n",
       "      <td>34.89</td>\n",
       "      <td>78.49</td>\n",
       "      <td>54.98</td>\n",
       "      <td>110.20</td>\n",
       "      <td>81.382</td>\n",
       "    </tr>\n",
       "    <tr>\n",
       "      <th>2019-10-28</th>\n",
       "      <td>129.18</td>\n",
       "      <td>35.37</td>\n",
       "      <td>78.44</td>\n",
       "      <td>55.59</td>\n",
       "      <td>112.99</td>\n",
       "      <td>82.314</td>\n",
       "    </tr>\n",
       "    <tr>\n",
       "      <th>2019-10-29</th>\n",
       "      <td>129.12</td>\n",
       "      <td>36.25</td>\n",
       "      <td>81.20</td>\n",
       "      <td>55.77</td>\n",
       "      <td>111.67</td>\n",
       "      <td>82.802</td>\n",
       "    </tr>\n",
       "    <tr>\n",
       "      <th>2019-10-30</th>\n",
       "      <td>132.84</td>\n",
       "      <td>36.51</td>\n",
       "      <td>82.27</td>\n",
       "      <td>56.87</td>\n",
       "      <td>112.72</td>\n",
       "      <td>84.242</td>\n",
       "    </tr>\n",
       "  </tbody>\n",
       "</table>\n",
       "</div>"
      ],
      "text/plain": [
       "               JNJ    PFE    MRK    BMY     LLY  PharmaIndex\n",
       "Date                                                        \n",
       "2019-10-24  127.50  34.53  78.80  54.37  107.84       80.608\n",
       "2019-10-25  128.35  34.89  78.49  54.98  110.20       81.382\n",
       "2019-10-28  129.18  35.37  78.44  55.59  112.99       82.314\n",
       "2019-10-29  129.12  36.25  81.20  55.77  111.67       82.802\n",
       "2019-10-30  132.84  36.51  82.27  56.87  112.72       84.242"
      ]
     },
     "execution_count": 53,
     "metadata": {},
     "output_type": "execute_result"
    }
   ],
   "source": [
    "pharma_stock_df = pd.concat((dataset.JNJ.Close,dataset.PFE.Close,dataset.MRK.Close,dataset.BMY.Close,dataset.LLY.Close),join = 'inner',keys=['JNJ','PFE','MRK','BMY','LLY'],axis=1)\n",
    "pharma_stock_df['PharmaIndex'] = 0.2*pharma_stock_df.JNJ+0.2*pharma_stock_df.PFE+0.2*pharma_stock_df.MRK+0.2*pharma_stock_df.BMY+0.2*pharma_stock_df.LLY\n",
    "pharma_stock_df.head()"
   ]
  },
  {
   "cell_type": "markdown",
   "id": "316b9ae7-facb-4b6f-b2b1-6b0c2fccfdc6",
   "metadata": {},
   "source": [
    "Calculating relative index for telecom stock"
   ]
  },
  {
   "cell_type": "code",
   "execution_count": 54,
   "id": "b197eea3-1886-4ba8-b2fe-512bc3ced18f",
   "metadata": {
    "tags": []
   },
   "outputs": [
    {
     "data": {
      "text/html": [
       "<div>\n",
       "<style scoped>\n",
       "    .dataframe tbody tr th:only-of-type {\n",
       "        vertical-align: middle;\n",
       "    }\n",
       "\n",
       "    .dataframe tbody tr th {\n",
       "        vertical-align: top;\n",
       "    }\n",
       "\n",
       "    .dataframe thead th {\n",
       "        text-align: right;\n",
       "    }\n",
       "</style>\n",
       "<table border=\"1\" class=\"dataframe\">\n",
       "  <thead>\n",
       "    <tr style=\"text-align: right;\">\n",
       "      <th></th>\n",
       "      <th>T</th>\n",
       "      <th>VZ</th>\n",
       "      <th>TMUS</th>\n",
       "      <th>CMCSA</th>\n",
       "      <th>CHTR</th>\n",
       "      <th>TelecomIndex</th>\n",
       "    </tr>\n",
       "    <tr>\n",
       "      <th>Date</th>\n",
       "      <th></th>\n",
       "      <th></th>\n",
       "      <th></th>\n",
       "      <th></th>\n",
       "      <th></th>\n",
       "      <th></th>\n",
       "    </tr>\n",
       "  </thead>\n",
       "  <tbody>\n",
       "    <tr>\n",
       "      <th>2019-10-24</th>\n",
       "      <td>27.81</td>\n",
       "      <td>60.58</td>\n",
       "      <td>81.48</td>\n",
       "      <td>44.84</td>\n",
       "      <td>435.07</td>\n",
       "      <td>129.956</td>\n",
       "    </tr>\n",
       "    <tr>\n",
       "      <th>2019-10-25</th>\n",
       "      <td>27.88</td>\n",
       "      <td>60.37</td>\n",
       "      <td>81.62</td>\n",
       "      <td>45.65</td>\n",
       "      <td>462.19</td>\n",
       "      <td>135.542</td>\n",
       "    </tr>\n",
       "    <tr>\n",
       "      <th>2019-10-28</th>\n",
       "      <td>29.07</td>\n",
       "      <td>60.18</td>\n",
       "      <td>82.39</td>\n",
       "      <td>45.44</td>\n",
       "      <td>467.09</td>\n",
       "      <td>136.834</td>\n",
       "    </tr>\n",
       "    <tr>\n",
       "      <th>2019-10-29</th>\n",
       "      <td>28.75</td>\n",
       "      <td>60.19</td>\n",
       "      <td>81.77</td>\n",
       "      <td>45.35</td>\n",
       "      <td>464.07</td>\n",
       "      <td>136.026</td>\n",
       "    </tr>\n",
       "    <tr>\n",
       "      <th>2019-10-30</th>\n",
       "      <td>28.85</td>\n",
       "      <td>60.82</td>\n",
       "      <td>83.27</td>\n",
       "      <td>44.69</td>\n",
       "      <td>468.78</td>\n",
       "      <td>137.282</td>\n",
       "    </tr>\n",
       "  </tbody>\n",
       "</table>\n",
       "</div>"
      ],
      "text/plain": [
       "                T     VZ   TMUS  CMCSA    CHTR  TelecomIndex\n",
       "Date                                                        \n",
       "2019-10-24  27.81  60.58  81.48  44.84  435.07       129.956\n",
       "2019-10-25  27.88  60.37  81.62  45.65  462.19       135.542\n",
       "2019-10-28  29.07  60.18  82.39  45.44  467.09       136.834\n",
       "2019-10-29  28.75  60.19  81.77  45.35  464.07       136.026\n",
       "2019-10-30  28.85  60.82  83.27  44.69  468.78       137.282"
      ]
     },
     "execution_count": 54,
     "metadata": {},
     "output_type": "execute_result"
    }
   ],
   "source": [
    "telecom_stock_df = pd.concat((dataset['T'].Close,dataset.VZ.Close,dataset.TMUS.Close,dataset.CMCSA.Close,dataset.CHTR.Close),join = 'inner',keys=['T','VZ','TMUS','CMCSA','CHTR'],axis=1)\n",
    "telecom_stock_df['TelecomIndex'] = 0.2*telecom_stock_df['T']+0.2*telecom_stock_df.VZ+0.2*telecom_stock_df.TMUS+0.2*telecom_stock_df.CMCSA+0.2*telecom_stock_df.CHTR\n",
    "telecom_stock_df.head()"
   ]
  },
  {
   "cell_type": "markdown",
   "id": "cc879337-6782-4589-8ed2-8eafbb8f69cc",
   "metadata": {},
   "source": [
    "Calculating relative index for FMCG stock"
   ]
  },
  {
   "cell_type": "code",
   "execution_count": 55,
   "id": "bb6ef95d-fa1d-4110-9ecc-4f2fc3dc9744",
   "metadata": {
    "tags": []
   },
   "outputs": [
    {
     "data": {
      "text/html": [
       "<div>\n",
       "<style scoped>\n",
       "    .dataframe tbody tr th:only-of-type {\n",
       "        vertical-align: middle;\n",
       "    }\n",
       "\n",
       "    .dataframe tbody tr th {\n",
       "        vertical-align: top;\n",
       "    }\n",
       "\n",
       "    .dataframe thead th {\n",
       "        text-align: right;\n",
       "    }\n",
       "</style>\n",
       "<table border=\"1\" class=\"dataframe\">\n",
       "  <thead>\n",
       "    <tr style=\"text-align: right;\">\n",
       "      <th></th>\n",
       "      <th>PG</th>\n",
       "      <th>KO</th>\n",
       "      <th>PEP</th>\n",
       "      <th>WMT</th>\n",
       "      <th>CL</th>\n",
       "      <th>FMCGIndex</th>\n",
       "    </tr>\n",
       "    <tr>\n",
       "      <th>Date</th>\n",
       "      <th></th>\n",
       "      <th></th>\n",
       "      <th></th>\n",
       "      <th></th>\n",
       "      <th></th>\n",
       "      <th></th>\n",
       "    </tr>\n",
       "  </thead>\n",
       "  <tbody>\n",
       "    <tr>\n",
       "      <th>2019-10-24</th>\n",
       "      <td>124.79</td>\n",
       "      <td>54.61</td>\n",
       "      <td>137.89</td>\n",
       "      <td>119.10</td>\n",
       "      <td>68.34</td>\n",
       "      <td>100.946</td>\n",
       "    </tr>\n",
       "    <tr>\n",
       "      <th>2019-10-25</th>\n",
       "      <td>123.25</td>\n",
       "      <td>53.75</td>\n",
       "      <td>136.64</td>\n",
       "      <td>119.04</td>\n",
       "      <td>68.41</td>\n",
       "      <td>100.218</td>\n",
       "    </tr>\n",
       "    <tr>\n",
       "      <th>2019-10-28</th>\n",
       "      <td>123.48</td>\n",
       "      <td>53.57</td>\n",
       "      <td>136.57</td>\n",
       "      <td>119.22</td>\n",
       "      <td>67.35</td>\n",
       "      <td>100.038</td>\n",
       "    </tr>\n",
       "    <tr>\n",
       "      <th>2019-10-29</th>\n",
       "      <td>123.60</td>\n",
       "      <td>53.41</td>\n",
       "      <td>136.08</td>\n",
       "      <td>117.15</td>\n",
       "      <td>67.92</td>\n",
       "      <td>99.632</td>\n",
       "    </tr>\n",
       "    <tr>\n",
       "      <th>2019-10-30</th>\n",
       "      <td>124.94</td>\n",
       "      <td>53.94</td>\n",
       "      <td>136.90</td>\n",
       "      <td>118.10</td>\n",
       "      <td>68.58</td>\n",
       "      <td>100.492</td>\n",
       "    </tr>\n",
       "  </tbody>\n",
       "</table>\n",
       "</div>"
      ],
      "text/plain": [
       "                PG     KO     PEP     WMT     CL  FMCGIndex\n",
       "Date                                                       \n",
       "2019-10-24  124.79  54.61  137.89  119.10  68.34    100.946\n",
       "2019-10-25  123.25  53.75  136.64  119.04  68.41    100.218\n",
       "2019-10-28  123.48  53.57  136.57  119.22  67.35    100.038\n",
       "2019-10-29  123.60  53.41  136.08  117.15  67.92     99.632\n",
       "2019-10-30  124.94  53.94  136.90  118.10  68.58    100.492"
      ]
     },
     "execution_count": 55,
     "metadata": {},
     "output_type": "execute_result"
    }
   ],
   "source": [
    "fmcg_stock_df = pd.concat((dataset.PG.Close,dataset.KO.Close,dataset.PEP.Close,dataset.WMT.Close,dataset.CL.Close),join = 'inner',keys=['PG','KO','PEP','WMT','CL'],axis=1)\n",
    "fmcg_stock_df['FMCGIndex'] = 0.2*fmcg_stock_df.PG+0.2*fmcg_stock_df.KO+0.2*fmcg_stock_df.PEP+0.2*fmcg_stock_df.WMT+0.2*fmcg_stock_df.CL\n",
    "fmcg_stock_df.head()"
   ]
  },
  {
   "cell_type": "markdown",
   "id": "d10f650d-d789-49d6-aff9-94f62b9499e4",
   "metadata": {},
   "source": [
    "# Calculating Global Reindex"
   ]
  },
  {
   "cell_type": "code",
   "execution_count": 64,
   "id": "5e580304-769d-4d06-b2db-152f4770424c",
   "metadata": {
    "tags": []
   },
   "outputs": [
    {
     "ename": "AttributeError",
     "evalue": "'str' object has no attribute 'astype'",
     "output_type": "error",
     "traceback": [
      "\u001b[1;31m---------------------------------------------------------------------------\u001b[0m",
      "\u001b[1;31mAttributeError\u001b[0m                            Traceback (most recent call last)",
      "Cell \u001b[1;32mIn[64], line 3\u001b[0m\n\u001b[0;32m      1\u001b[0m \u001b[38;5;28;01mfor\u001b[39;00m i \u001b[38;5;129;01min\u001b[39;00m \u001b[38;5;28mrange\u001b[39m(\u001b[38;5;241m0\u001b[39m,\u001b[38;5;28mlen\u001b[39m(tech_stock_df)):\n\u001b[0;32m      2\u001b[0m     \u001b[38;5;28;01mif\u001b[39;00m i\u001b[38;5;241m==\u001b[39m\u001b[38;5;241m0\u001b[39m:\n\u001b[1;32m----> 3\u001b[0m         tech_stock_df[\u001b[38;5;124m'\u001b[39m\u001b[38;5;124mTechGlobalReindex\u001b[39m\u001b[38;5;124m'\u001b[39m]  \u001b[38;5;241m=\u001b[39m tech_stock_df[\u001b[38;5;124m'\u001b[39m\u001b[38;5;124mS&P500\u001b[39m\u001b[38;5;124m'\u001b[39m][\u001b[38;5;241m0\u001b[39m]\u001b[38;5;241m.\u001b[39mastype(\u001b[38;5;28mfloat\u001b[39m)\n\u001b[0;32m      4\u001b[0m     \u001b[38;5;28;01melse\u001b[39;00m:\n\u001b[0;32m      5\u001b[0m         tech_stock_df[\u001b[38;5;124m'\u001b[39m\u001b[38;5;124mTechGlobalReindex\u001b[39m\u001b[38;5;124m'\u001b[39m] \u001b[38;5;241m=\u001b[39m (tech_stock_df[\u001b[38;5;124m'\u001b[39m\u001b[38;5;124mTechGlobalReindex\u001b[39m\u001b[38;5;124m'\u001b[39m][i\u001b[38;5;241m-\u001b[39m\u001b[38;5;241m1\u001b[39m] \u001b[38;5;241m*\u001b[39m tech_stock_df[\u001b[38;5;124m'\u001b[39m\u001b[38;5;124mS&P500\u001b[39m\u001b[38;5;124m'\u001b[39m][i]\u001b[38;5;241m.\u001b[39mastype(\u001b[38;5;28mfloat\u001b[39m))\u001b[38;5;241m/\u001b[39mtech_stock_df[\u001b[38;5;124m'\u001b[39m\u001b[38;5;124mS&P500\u001b[39m\u001b[38;5;124m'\u001b[39m][i\u001b[38;5;241m-\u001b[39m\u001b[38;5;241m1\u001b[39m]\u001b[38;5;241m.\u001b[39mastype(\u001b[38;5;28mfloat\u001b[39m)\n",
      "\u001b[1;31mAttributeError\u001b[0m: 'str' object has no attribute 'astype'"
     ]
    }
   ],
   "source": [
    "#need to work on this once we convert str to float\n",
    "for i in range(0,len(tech_stock_df)):\n",
    "    if i==0:\n",
    "        tech_stock_df['TechGlobalReindex']  = tech_stock_df['S&P500'][0].astype(float)\n",
    "    else:\n",
    "        tech_stock_df['TechGlobalReindex'] = (tech_stock_df['TechGlobalReindex'][i-1] * tech_stock_df['S&P500'][i].astype(float))/tech_stock_df['S&P500'][i-1].astype(float)\n",
    "tech_stock_df.head()"
   ]
  },
  {
   "cell_type": "code",
   "execution_count": 63,
   "id": "e6a55815-c068-4982-8e3e-4705a101cc21",
   "metadata": {
    "tags": []
   },
   "outputs": [
    {
     "data": {
      "text/plain": [
       "numpy.float64"
      ]
     },
     "execution_count": 63,
     "metadata": {},
     "output_type": "execute_result"
    }
   ],
   "source": [
    "type(tech_stock_df['APPL'][0])"
   ]
  },
  {
   "cell_type": "code",
   "execution_count": null,
   "id": "1cbb5735-4b88-4c5a-b5bd-594a25aa780c",
   "metadata": {},
   "outputs": [],
   "source": []
  }
 ],
 "metadata": {
  "kernelspec": {
   "display_name": "Python 3 (ipykernel)",
   "language": "python",
   "name": "python3"
  },
  "language_info": {
   "codemirror_mode": {
    "name": "ipython",
    "version": 3
   },
   "file_extension": ".py",
   "mimetype": "text/x-python",
   "name": "python",
   "nbconvert_exporter": "python",
   "pygments_lexer": "ipython3",
   "version": "3.11.4"
  }
 },
 "nbformat": 4,
 "nbformat_minor": 5
}
