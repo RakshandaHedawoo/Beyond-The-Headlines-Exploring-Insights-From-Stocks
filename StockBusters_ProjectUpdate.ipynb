{
 "cells": [
  {
   "cell_type": "markdown",
   "id": "56f98474-d115-4771-895d-cd167add5756",
   "metadata": {},
   "source": [
    "# Beyond-The-Headlines-Exploring-Insights-From-Stocks\n",
    "#### <font color=\"gray\"> Group 19 (Stockbusters): Brigid Sax, Delvin Eluvathingal, Nan Liu, Navneeth Oruganti, Rakshanda Hedawoo, Saketh Gangavaram, Sumedh Tirodkar </font>\n",
    "\n",
    "### Introduction and Summary:\n",
    "##### The covid-19 pandemic is a one off global event. It has sent shockwaves to economies across the globe. In this project, we aim to perform an in-depth analysis of the impact of the COVID-19 pandemic on the performance of the top 5 stocks within four sectors that were severely affected by the crisis. The four sectors we are focusing on are Tech, Pharma, Telecom and FMCG (Fast moving consumer goods) and only on US stocks for this. This analysis is pivotal in understanding how economic crises impact stock performance and the broader financial markets. The study will be conducted in a Jupyter Notebook environment using statistical models and is expected to span a duration of 40-45 days.\n",
    "\n",
    "Lockdown 1 :- March 2020 to July 2020 <br>\n",
    "Lockdown 2 (Omicron):- November 2021 to February 2022 <br>\n",
    "Ukraine War :- 24 February 2022 to till date"
   ]
  },
  {
   "cell_type": "markdown",
   "id": "740291b8",
   "metadata": {},
   "source": [
    "### Import Statements"
   ]
  },
  {
   "cell_type": "code",
   "execution_count": 1,
   "id": "aca94314",
   "metadata": {
    "tags": []
   },
   "outputs": [],
   "source": [
    "# importing Pandas library\n",
    "import pandas as pd"
   ]
  },
  {
   "cell_type": "markdown",
   "id": "8c090d0a-6ee9-45b3-bec6-a494ff78cd8b",
   "metadata": {},
   "source": [
    "### Loading the data sets into the Jupyter Notebook"
   ]
  },
  {
   "cell_type": "code",
   "execution_count": 2,
   "id": "6ba75e7f-d697-4502-8634-1837c474e9a1",
   "metadata": {
    "tags": []
   },
   "outputs": [],
   "source": [
    "# defining the file path. Change this according to your local system where you have placed your \"DataFiles\" folder containing the data tables\n",
    "file_path = '/Users/sumedh/Desktop/UMCP/SEM1/BUDT704 Data Processing aand Analysis in Python/Project/DataFiles/'"
   ]
  },
  {
   "cell_type": "code",
   "execution_count": 3,
   "id": "9f77fc42",
   "metadata": {
    "tags": []
   },
   "outputs": [],
   "source": [
    "dfAAPL = pd.read_csv(file_path + 'AAPL.csv', delimiter = ',', index_col = 'Date')"
   ]
  },
  {
   "cell_type": "code",
   "execution_count": 4,
   "id": "6f4f172a",
   "metadata": {
    "tags": []
   },
   "outputs": [],
   "source": [
    "dfAMZN = pd.read_csv(file_path + 'AMZN.csv', delimiter = ',', index_col = 'Date')"
   ]
  },
  {
   "cell_type": "code",
   "execution_count": 5,
   "id": "725aabf6",
   "metadata": {
    "tags": []
   },
   "outputs": [],
   "source": [
    "dfBMY = pd.read_csv(file_path + 'BMY.csv', delimiter = ',', index_col = 'Date')"
   ]
  },
  {
   "cell_type": "code",
   "execution_count": 6,
   "id": "77756386",
   "metadata": {
    "tags": []
   },
   "outputs": [],
   "source": [
    "dfCHTR = pd.read_csv(file_path + 'CHTR.csv', delimiter = ',', index_col = 'Date')"
   ]
  },
  {
   "cell_type": "code",
   "execution_count": 7,
   "id": "0a65e050",
   "metadata": {
    "tags": []
   },
   "outputs": [],
   "source": [
    "dfCL = pd.read_csv(file_path + 'CL.csv', delimiter = ',', index_col = 'Date')"
   ]
  },
  {
   "cell_type": "code",
   "execution_count": 8,
   "id": "aca15cc5",
   "metadata": {
    "tags": []
   },
   "outputs": [],
   "source": [
    "dfCMCSA = pd.read_csv(file_path + 'CMCSA.csv', delimiter = ',', index_col = 'Date')"
   ]
  },
  {
   "cell_type": "code",
   "execution_count": 9,
   "id": "d45a1e60",
   "metadata": {
    "tags": []
   },
   "outputs": [],
   "source": [
    "dfGOOG = pd.read_csv(file_path + 'GOOG.csv', delimiter = ',', index_col = 'Date')"
   ]
  },
  {
   "cell_type": "code",
   "execution_count": 10,
   "id": "027e171d",
   "metadata": {
    "tags": []
   },
   "outputs": [],
   "source": [
    "dfJNJ = pd.read_csv(file_path + 'JNJ.csv', delimiter = ',', index_col = 'Date')"
   ]
  },
  {
   "cell_type": "code",
   "execution_count": 11,
   "id": "3fba5bde",
   "metadata": {
    "tags": []
   },
   "outputs": [],
   "source": [
    "dfKO = pd.read_csv(file_path + 'KO.csv', delimiter = ',', index_col = 'Date')"
   ]
  },
  {
   "cell_type": "code",
   "execution_count": 12,
   "id": "d367a15e",
   "metadata": {
    "tags": []
   },
   "outputs": [],
   "source": [
    "dfLLY = pd.read_csv(file_path + 'LLY.csv', delimiter = ',', index_col = 'Date')"
   ]
  },
  {
   "cell_type": "code",
   "execution_count": 13,
   "id": "bfa420bd",
   "metadata": {
    "tags": []
   },
   "outputs": [],
   "source": [
    "dfMETA = pd.read_csv(file_path + 'META.csv', delimiter = ',', index_col = 'Date')"
   ]
  },
  {
   "cell_type": "code",
   "execution_count": 14,
   "id": "d4e0c704",
   "metadata": {
    "tags": []
   },
   "outputs": [],
   "source": [
    "dfMRK = pd.read_csv(file_path + 'MRK.csv', delimiter = ',', index_col = 'Date')"
   ]
  },
  {
   "cell_type": "code",
   "execution_count": 15,
   "id": "b2c9e2f2",
   "metadata": {
    "tags": []
   },
   "outputs": [],
   "source": [
    "dfMSFT = pd.read_csv(file_path + 'MSFT.csv', delimiter = ',', index_col = 'Date')"
   ]
  },
  {
   "cell_type": "code",
   "execution_count": 16,
   "id": "4af5dcd6",
   "metadata": {
    "tags": []
   },
   "outputs": [],
   "source": [
    "dfPEP = pd.read_csv(file_path + 'PEP.csv', delimiter = ',', index_col = 'Date')"
   ]
  },
  {
   "cell_type": "code",
   "execution_count": 17,
   "id": "d9b24ebc",
   "metadata": {
    "tags": []
   },
   "outputs": [],
   "source": [
    "dfPFE = pd.read_csv(file_path + 'PFE.csv', delimiter = ',', index_col = 'Date')"
   ]
  },
  {
   "cell_type": "code",
   "execution_count": 18,
   "id": "f4dea593",
   "metadata": {
    "tags": []
   },
   "outputs": [],
   "source": [
    "dfPG = pd.read_csv(file_path + 'PG.csv', delimiter = ',', index_col = 'Date')"
   ]
  },
  {
   "cell_type": "code",
   "execution_count": 19,
   "id": "8e7ec2bf",
   "metadata": {
    "tags": []
   },
   "outputs": [],
   "source": [
    "dfT = pd.read_csv(file_path + 'T.csv', delimiter = ',', index_col = 'Date')"
   ]
  },
  {
   "cell_type": "code",
   "execution_count": 20,
   "id": "57805a79",
   "metadata": {
    "tags": []
   },
   "outputs": [],
   "source": [
    "dfTMUS = pd.read_csv(file_path + 'TMUS.csv', delimiter = ',', index_col = 'Date')"
   ]
  },
  {
   "cell_type": "code",
   "execution_count": 21,
   "id": "2983c0e5",
   "metadata": {
    "tags": []
   },
   "outputs": [],
   "source": [
    "dfVZ = pd.read_csv(file_path + 'VZ.csv', delimiter = ',', index_col = 'Date')"
   ]
  },
  {
   "cell_type": "code",
   "execution_count": 22,
   "id": "b7be789c",
   "metadata": {
    "tags": []
   },
   "outputs": [],
   "source": [
    "dfWMT = pd.read_csv(file_path + 'WMT.csv', delimiter = ',', index_col = 'Date')"
   ]
  },
  {
   "cell_type": "code",
   "execution_count": 29,
   "id": "d0cbc2b2",
   "metadata": {
    "tags": []
   },
   "outputs": [],
   "source": [
    "df500_19 = pd.read_csv(file_path + 'INDEX_US_S&P US_SPX_Oct19-20.csv', delimiter = ',')"
   ]
  },
  {
   "cell_type": "code",
   "execution_count": 30,
   "id": "114aff51",
   "metadata": {
    "tags": []
   },
   "outputs": [],
   "source": [
    "df500_20 = pd.read_csv(file_path + 'INDEX_US_S&P US_SPX_Oct20-21.csv', delimiter = ',')"
   ]
  },
  {
   "cell_type": "code",
   "execution_count": 31,
   "id": "40bf55eb",
   "metadata": {
    "tags": []
   },
   "outputs": [],
   "source": [
    "df500_21 = pd.read_csv(file_path + 'INDEX_US_S&P US_SPX_Oct21-22.csv', delimiter = ',')"
   ]
  },
  {
   "cell_type": "code",
   "execution_count": 32,
   "id": "eb7673a8",
   "metadata": {
    "tags": []
   },
   "outputs": [],
   "source": [
    "df500_22 = pd.read_csv(file_path + 'INDEX_US_S&P US_SPX_Oct22-23.csv', delimiter = ',')"
   ]
  },
  {
   "cell_type": "code",
   "execution_count": 33,
   "id": "3d620a24",
   "metadata": {
    "tags": []
   },
   "outputs": [],
   "source": [
    "dfDow_19 = pd.read_csv(file_path + 'INDEX_US_DOW JONES GLOBAL_DJIA_Oct19-20.csv', delimiter = ',')"
   ]
  },
  {
   "cell_type": "code",
   "execution_count": 34,
   "id": "820dcdf3",
   "metadata": {
    "tags": []
   },
   "outputs": [],
   "source": [
    "dfDow_20 = pd.read_csv(file_path + 'INDEX_US_DOW JONES GLOBAL_DJIA_Oct20-21.csv', delimiter = ',')"
   ]
  },
  {
   "cell_type": "code",
   "execution_count": 35,
   "id": "24a9ddb1",
   "metadata": {
    "tags": []
   },
   "outputs": [],
   "source": [
    "dfDow_21 = pd.read_csv(file_path + 'INDEX_US_DOW JONES GLOBAL_DJIA_Oct21-22.csv', delimiter = ',')"
   ]
  },
  {
   "cell_type": "code",
   "execution_count": 36,
   "id": "32aaa5cc",
   "metadata": {
    "tags": []
   },
   "outputs": [],
   "source": [
    "dfDow_22 = pd.read_csv(file_path + 'INDEX_US_DOW JONES GLOBAL_DJIA_Oct22-23.csv', delimiter = ',')\n"
   ]
  },
  {
   "cell_type": "markdown",
   "id": "9742cbf4",
   "metadata": {},
   "source": [
    "## Concatenating Indexes"
   ]
  },
  {
   "cell_type": "code",
   "execution_count": 37,
   "id": "117b978c",
   "metadata": {
    "tags": []
   },
   "outputs": [],
   "source": [
    "df500 = pd.concat([df500_22,df500_21,df500_20,df500_19])\n",
    "df500.set_index('Date',inplace=True)\n"
   ]
  },
  {
   "cell_type": "code",
   "execution_count": 38,
   "id": "02b0294c",
   "metadata": {
    "tags": []
   },
   "outputs": [],
   "source": [
    "dfDow = pd.concat([dfDow_22,dfDow_21,dfDow_20,dfDow_19])\n",
    "dfDow.set_index('Date',inplace=True)"
   ]
  },
  {
   "cell_type": "markdown",
   "id": "5f3e6607",
   "metadata": {},
   "source": [
    "## Merging Dataset"
   ]
  },
  {
   "cell_type": "code",
   "execution_count": 39,
   "id": "e7a8354c",
   "metadata": {
    "tags": []
   },
   "outputs": [],
   "source": [
    "dfIndexes = pd.merge(df500, dfDow, on = 'Date', how ='inner', suffixes=('_500', '_Dow'))"
   ]
  },
  {
   "cell_type": "code",
   "execution_count": 40,
   "id": "2eaa6986-2758-4345-a535-dda29513e592",
   "metadata": {
    "tags": []
   },
   "outputs": [],
   "source": [
    "dfIndexes = pd.concat((df500, dfDow), join ='inner', keys=['S&P500', 'DJIA30'],axis=1)"
   ]
  },
  {
   "cell_type": "code",
   "execution_count": 41,
   "id": "cb3ab692-c03b-4317-afd0-fff6b2ceacb3",
   "metadata": {
    "tags": []
   },
   "outputs": [
    {
     "data": {
      "text/html": [
       "<div>\n",
       "<style scoped>\n",
       "    .dataframe tbody tr th:only-of-type {\n",
       "        vertical-align: middle;\n",
       "    }\n",
       "\n",
       "    .dataframe tbody tr th {\n",
       "        vertical-align: top;\n",
       "    }\n",
       "\n",
       "    .dataframe thead tr th {\n",
       "        text-align: left;\n",
       "    }\n",
       "\n",
       "    .dataframe thead tr:last-of-type th {\n",
       "        text-align: right;\n",
       "    }\n",
       "</style>\n",
       "<table border=\"1\" class=\"dataframe\">\n",
       "  <thead>\n",
       "    <tr>\n",
       "      <th></th>\n",
       "      <th colspan=\"4\" halign=\"left\">S&amp;P500</th>\n",
       "      <th colspan=\"4\" halign=\"left\">DJIA30</th>\n",
       "    </tr>\n",
       "    <tr>\n",
       "      <th></th>\n",
       "      <th>Open</th>\n",
       "      <th>High</th>\n",
       "      <th>Low</th>\n",
       "      <th>Close</th>\n",
       "      <th>Open</th>\n",
       "      <th>High</th>\n",
       "      <th>Low</th>\n",
       "      <th>Close</th>\n",
       "    </tr>\n",
       "    <tr>\n",
       "      <th>Date</th>\n",
       "      <th></th>\n",
       "      <th></th>\n",
       "      <th></th>\n",
       "      <th></th>\n",
       "      <th></th>\n",
       "      <th></th>\n",
       "      <th></th>\n",
       "      <th></th>\n",
       "    </tr>\n",
       "  </thead>\n",
       "  <tbody>\n",
       "    <tr>\n",
       "      <th>2023-10-24</th>\n",
       "      <td>4,235.79</td>\n",
       "      <td>4,259.38</td>\n",
       "      <td>4,219.43</td>\n",
       "      <td>4,247.68</td>\n",
       "      <td>33,089.64</td>\n",
       "      <td>33,272.19</td>\n",
       "      <td>32,988.43</td>\n",
       "      <td>33,141.38</td>\n",
       "    </tr>\n",
       "    <tr>\n",
       "      <th>2023-10-23</th>\n",
       "      <td>4,210.40</td>\n",
       "      <td>4,255.84</td>\n",
       "      <td>4,189.22</td>\n",
       "      <td>4,217.04</td>\n",
       "      <td>32,993.02</td>\n",
       "      <td>33,234.85</td>\n",
       "      <td>32,892.19</td>\n",
       "      <td>32,936.41</td>\n",
       "    </tr>\n",
       "    <tr>\n",
       "      <th>2023-10-20</th>\n",
       "      <td>4,273.85</td>\n",
       "      <td>4,276.56</td>\n",
       "      <td>4,223.03</td>\n",
       "      <td>4,224.16</td>\n",
       "      <td>33,365.27</td>\n",
       "      <td>33,425.77</td>\n",
       "      <td>33,118.12</td>\n",
       "      <td>33,127.28</td>\n",
       "    </tr>\n",
       "    <tr>\n",
       "      <th>2023-10-19</th>\n",
       "      <td>4,321.36</td>\n",
       "      <td>4,339.54</td>\n",
       "      <td>4,269.69</td>\n",
       "      <td>4,278.00</td>\n",
       "      <td>33,669.52</td>\n",
       "      <td>33,852.39</td>\n",
       "      <td>33,368.58</td>\n",
       "      <td>33,414.17</td>\n",
       "    </tr>\n",
       "    <tr>\n",
       "      <th>2023-10-18</th>\n",
       "      <td>4,357.35</td>\n",
       "      <td>4,364.20</td>\n",
       "      <td>4,303.84</td>\n",
       "      <td>4,314.60</td>\n",
       "      <td>33,960.25</td>\n",
       "      <td>33,991.51</td>\n",
       "      <td>33,598.64</td>\n",
       "      <td>33,665.08</td>\n",
       "    </tr>\n",
       "    <tr>\n",
       "      <th>...</th>\n",
       "      <td>...</td>\n",
       "      <td>...</td>\n",
       "      <td>...</td>\n",
       "      <td>...</td>\n",
       "      <td>...</td>\n",
       "      <td>...</td>\n",
       "      <td>...</td>\n",
       "      <td>...</td>\n",
       "    </tr>\n",
       "    <tr>\n",
       "      <th>2019-10-30</th>\n",
       "      <td>3,039.74</td>\n",
       "      <td>3,050.10</td>\n",
       "      <td>3,025.96</td>\n",
       "      <td>3,046.77</td>\n",
       "      <td>27,110.71</td>\n",
       "      <td>27,204.36</td>\n",
       "      <td>26,999.64</td>\n",
       "      <td>27,186.69</td>\n",
       "    </tr>\n",
       "    <tr>\n",
       "      <th>2019-10-29</th>\n",
       "      <td>3,035.39</td>\n",
       "      <td>3,047.87</td>\n",
       "      <td>3,034.81</td>\n",
       "      <td>3,036.89</td>\n",
       "      <td>27,061.07</td>\n",
       "      <td>27,165.94</td>\n",
       "      <td>27,039.76</td>\n",
       "      <td>27,071.42</td>\n",
       "    </tr>\n",
       "    <tr>\n",
       "      <th>2019-10-28</th>\n",
       "      <td>3,032.12</td>\n",
       "      <td>3,044.08</td>\n",
       "      <td>3,032.12</td>\n",
       "      <td>3,039.42</td>\n",
       "      <td>27,040.33</td>\n",
       "      <td>27,167.88</td>\n",
       "      <td>27,028.71</td>\n",
       "      <td>27,090.72</td>\n",
       "    </tr>\n",
       "    <tr>\n",
       "      <th>2019-10-25</th>\n",
       "      <td>3,003.32</td>\n",
       "      <td>3,027.39</td>\n",
       "      <td>3,001.94</td>\n",
       "      <td>3,022.55</td>\n",
       "      <td>26,789.61</td>\n",
       "      <td>27,015.37</td>\n",
       "      <td>26,765.68</td>\n",
       "      <td>26,958.06</td>\n",
       "    </tr>\n",
       "    <tr>\n",
       "      <th>2019-10-24</th>\n",
       "      <td>3,014.78</td>\n",
       "      <td>3,016.07</td>\n",
       "      <td>3,000.42</td>\n",
       "      <td>3,010.29</td>\n",
       "      <td>26,893.93</td>\n",
       "      <td>26,931.78</td>\n",
       "      <td>26,714.34</td>\n",
       "      <td>26,805.53</td>\n",
       "    </tr>\n",
       "  </tbody>\n",
       "</table>\n",
       "<p>1007 rows × 8 columns</p>\n",
       "</div>"
      ],
      "text/plain": [
       "              S&P500                                   DJIA30             \\\n",
       "                Open      High       Low     Close       Open       High   \n",
       "Date                                                                       \n",
       "2023-10-24  4,235.79  4,259.38  4,219.43  4,247.68  33,089.64  33,272.19   \n",
       "2023-10-23  4,210.40  4,255.84  4,189.22  4,217.04  32,993.02  33,234.85   \n",
       "2023-10-20  4,273.85  4,276.56  4,223.03  4,224.16  33,365.27  33,425.77   \n",
       "2023-10-19  4,321.36  4,339.54  4,269.69  4,278.00  33,669.52  33,852.39   \n",
       "2023-10-18  4,357.35  4,364.20  4,303.84  4,314.60  33,960.25  33,991.51   \n",
       "...              ...       ...       ...       ...        ...        ...   \n",
       "2019-10-30  3,039.74  3,050.10  3,025.96  3,046.77  27,110.71  27,204.36   \n",
       "2019-10-29  3,035.39  3,047.87  3,034.81  3,036.89  27,061.07  27,165.94   \n",
       "2019-10-28  3,032.12  3,044.08  3,032.12  3,039.42  27,040.33  27,167.88   \n",
       "2019-10-25  3,003.32  3,027.39  3,001.94  3,022.55  26,789.61  27,015.37   \n",
       "2019-10-24  3,014.78  3,016.07  3,000.42  3,010.29  26,893.93  26,931.78   \n",
       "\n",
       "                                  \n",
       "                  Low      Close  \n",
       "Date                              \n",
       "2023-10-24  32,988.43  33,141.38  \n",
       "2023-10-23  32,892.19  32,936.41  \n",
       "2023-10-20  33,118.12  33,127.28  \n",
       "2023-10-19  33,368.58  33,414.17  \n",
       "2023-10-18  33,598.64  33,665.08  \n",
       "...               ...        ...  \n",
       "2019-10-30  26,999.64  27,186.69  \n",
       "2019-10-29  27,039.76  27,071.42  \n",
       "2019-10-28  27,028.71  27,090.72  \n",
       "2019-10-25  26,765.68  26,958.06  \n",
       "2019-10-24  26,714.34  26,805.53  \n",
       "\n",
       "[1007 rows x 8 columns]"
      ]
     },
     "execution_count": 41,
     "metadata": {},
     "output_type": "execute_result"
    }
   ],
   "source": [
    "dfIndexes.index = dfIndexes.index.map(lambda d: pd.to_datetime(d).strftime('%Y-%m-%d'))\n",
    "dfIndexes\n"
   ]
  },
  {
   "cell_type": "code",
   "execution_count": 42,
   "id": "dbbdff01",
   "metadata": {
    "tags": []
   },
   "outputs": [],
   "source": [
    "dfStocks = pd.concat((dfAAPL, dfAMZN, dfBMY, dfCHTR, dfCL, dfCMCSA, dfGOOG, dfJNJ, dfKO, dfLLY, dfMETA, dfMRK, dfMSFT, dfPEP, dfPFE, dfPG, dfT, dfTMUS, dfVZ, dfWMT), join = 'inner', keys = ['AAPL', 'AMZN', 'BMY', 'CHTR', 'CL', 'CMCSA', 'GOOG', 'JNJ', 'KO', 'LLY', 'META', 'MRK', 'MSFT', 'PEP', 'PFE', 'PG', 'T', 'TMUS', 'VZ', 'WMT'], axis = 1)"
   ]
  },
  {
   "cell_type": "code",
   "execution_count": 43,
   "id": "287c798a",
   "metadata": {
    "tags": []
   },
   "outputs": [
    {
     "data": {
      "text/html": [
       "<div>\n",
       "<style scoped>\n",
       "    .dataframe tbody tr th:only-of-type {\n",
       "        vertical-align: middle;\n",
       "    }\n",
       "\n",
       "    .dataframe tbody tr th {\n",
       "        vertical-align: top;\n",
       "    }\n",
       "\n",
       "    .dataframe thead tr th {\n",
       "        text-align: left;\n",
       "    }\n",
       "\n",
       "    .dataframe thead tr:last-of-type th {\n",
       "        text-align: right;\n",
       "    }\n",
       "</style>\n",
       "<table border=\"1\" class=\"dataframe\">\n",
       "  <thead>\n",
       "    <tr>\n",
       "      <th></th>\n",
       "      <th colspan=\"6\" halign=\"left\">AAPL</th>\n",
       "      <th colspan=\"4\" halign=\"left\">AMZN</th>\n",
       "      <th>...</th>\n",
       "      <th colspan=\"4\" halign=\"left\">VZ</th>\n",
       "      <th colspan=\"6\" halign=\"left\">WMT</th>\n",
       "    </tr>\n",
       "    <tr>\n",
       "      <th></th>\n",
       "      <th>Open</th>\n",
       "      <th>High</th>\n",
       "      <th>Low</th>\n",
       "      <th>Close</th>\n",
       "      <th>Adj Close</th>\n",
       "      <th>Volume</th>\n",
       "      <th>Open</th>\n",
       "      <th>High</th>\n",
       "      <th>Low</th>\n",
       "      <th>Close</th>\n",
       "      <th>...</th>\n",
       "      <th>Low</th>\n",
       "      <th>Close</th>\n",
       "      <th>Adj Close</th>\n",
       "      <th>Volume</th>\n",
       "      <th>Open</th>\n",
       "      <th>High</th>\n",
       "      <th>Low</th>\n",
       "      <th>Close</th>\n",
       "      <th>Adj Close</th>\n",
       "      <th>Volume</th>\n",
       "    </tr>\n",
       "    <tr>\n",
       "      <th>Date</th>\n",
       "      <th></th>\n",
       "      <th></th>\n",
       "      <th></th>\n",
       "      <th></th>\n",
       "      <th></th>\n",
       "      <th></th>\n",
       "      <th></th>\n",
       "      <th></th>\n",
       "      <th></th>\n",
       "      <th></th>\n",
       "      <th></th>\n",
       "      <th></th>\n",
       "      <th></th>\n",
       "      <th></th>\n",
       "      <th></th>\n",
       "      <th></th>\n",
       "      <th></th>\n",
       "      <th></th>\n",
       "      <th></th>\n",
       "      <th></th>\n",
       "      <th></th>\n",
       "    </tr>\n",
       "  </thead>\n",
       "  <tbody>\n",
       "    <tr>\n",
       "      <th>2019-10-24</th>\n",
       "      <td>61.127499</td>\n",
       "      <td>61.200001</td>\n",
       "      <td>60.452499</td>\n",
       "      <td>60.895000</td>\n",
       "      <td>59.226208</td>\n",
       "      <td>69275200</td>\n",
       "      <td>88.554497</td>\n",
       "      <td>89.417000</td>\n",
       "      <td>88.013496</td>\n",
       "      <td>89.039001</td>\n",
       "      <td>...</td>\n",
       "      <td>60.410000</td>\n",
       "      <td>60.580002</td>\n",
       "      <td>49.041088</td>\n",
       "      <td>11143800</td>\n",
       "      <td>119.150002</td>\n",
       "      <td>119.570000</td>\n",
       "      <td>118.510002</td>\n",
       "      <td>119.099998</td>\n",
       "      <td>111.734749</td>\n",
       "      <td>2900300</td>\n",
       "    </tr>\n",
       "    <tr>\n",
       "      <th>2019-10-25</th>\n",
       "      <td>60.790001</td>\n",
       "      <td>61.682499</td>\n",
       "      <td>60.720001</td>\n",
       "      <td>61.645000</td>\n",
       "      <td>59.955658</td>\n",
       "      <td>73477200</td>\n",
       "      <td>84.877502</td>\n",
       "      <td>88.210503</td>\n",
       "      <td>84.750000</td>\n",
       "      <td>88.066498</td>\n",
       "      <td>...</td>\n",
       "      <td>59.209999</td>\n",
       "      <td>60.369999</td>\n",
       "      <td>48.871086</td>\n",
       "      <td>15036400</td>\n",
       "      <td>119.000000</td>\n",
       "      <td>119.330002</td>\n",
       "      <td>118.199997</td>\n",
       "      <td>119.040001</td>\n",
       "      <td>111.678444</td>\n",
       "      <td>2564300</td>\n",
       "    </tr>\n",
       "    <tr>\n",
       "      <th>2019-10-28</th>\n",
       "      <td>61.855000</td>\n",
       "      <td>62.312500</td>\n",
       "      <td>61.680000</td>\n",
       "      <td>62.262501</td>\n",
       "      <td>60.556232</td>\n",
       "      <td>96572800</td>\n",
       "      <td>87.403000</td>\n",
       "      <td>88.934998</td>\n",
       "      <td>87.125000</td>\n",
       "      <td>88.853996</td>\n",
       "      <td>...</td>\n",
       "      <td>60.040001</td>\n",
       "      <td>60.180000</td>\n",
       "      <td>48.717274</td>\n",
       "      <td>14621400</td>\n",
       "      <td>119.250000</td>\n",
       "      <td>119.699997</td>\n",
       "      <td>118.529999</td>\n",
       "      <td>119.220001</td>\n",
       "      <td>111.847305</td>\n",
       "      <td>3404600</td>\n",
       "    </tr>\n",
       "    <tr>\n",
       "      <th>2019-10-29</th>\n",
       "      <td>62.242500</td>\n",
       "      <td>62.437500</td>\n",
       "      <td>60.642502</td>\n",
       "      <td>60.822498</td>\n",
       "      <td>59.155693</td>\n",
       "      <td>142839600</td>\n",
       "      <td>88.740501</td>\n",
       "      <td>88.849998</td>\n",
       "      <td>87.790497</td>\n",
       "      <td>88.135498</td>\n",
       "      <td>...</td>\n",
       "      <td>60.070000</td>\n",
       "      <td>60.189999</td>\n",
       "      <td>48.725368</td>\n",
       "      <td>10619900</td>\n",
       "      <td>118.500000</td>\n",
       "      <td>118.730003</td>\n",
       "      <td>117.080002</td>\n",
       "      <td>117.150002</td>\n",
       "      <td>109.905312</td>\n",
       "      <td>4791100</td>\n",
       "    </tr>\n",
       "    <tr>\n",
       "      <th>2019-10-30</th>\n",
       "      <td>61.189999</td>\n",
       "      <td>61.325001</td>\n",
       "      <td>60.302502</td>\n",
       "      <td>60.814999</td>\n",
       "      <td>59.148388</td>\n",
       "      <td>124522000</td>\n",
       "      <td>88.012001</td>\n",
       "      <td>89.119003</td>\n",
       "      <td>87.956001</td>\n",
       "      <td>88.999496</td>\n",
       "      <td>...</td>\n",
       "      <td>60.410000</td>\n",
       "      <td>60.820000</td>\n",
       "      <td>49.235371</td>\n",
       "      <td>12136500</td>\n",
       "      <td>117.180000</td>\n",
       "      <td>118.370003</td>\n",
       "      <td>117.050003</td>\n",
       "      <td>118.099998</td>\n",
       "      <td>110.796585</td>\n",
       "      <td>2996200</td>\n",
       "    </tr>\n",
       "  </tbody>\n",
       "</table>\n",
       "<p>5 rows × 120 columns</p>\n",
       "</div>"
      ],
      "text/plain": [
       "                 AAPL                                                         \\\n",
       "                 Open       High        Low      Close  Adj Close     Volume   \n",
       "Date                                                                           \n",
       "2019-10-24  61.127499  61.200001  60.452499  60.895000  59.226208   69275200   \n",
       "2019-10-25  60.790001  61.682499  60.720001  61.645000  59.955658   73477200   \n",
       "2019-10-28  61.855000  62.312500  61.680000  62.262501  60.556232   96572800   \n",
       "2019-10-29  62.242500  62.437500  60.642502  60.822498  59.155693  142839600   \n",
       "2019-10-30  61.189999  61.325001  60.302502  60.814999  59.148388  124522000   \n",
       "\n",
       "                 AMZN                                   ...         VZ  \\\n",
       "                 Open       High        Low      Close  ...        Low   \n",
       "Date                                                    ...              \n",
       "2019-10-24  88.554497  89.417000  88.013496  89.039001  ...  60.410000   \n",
       "2019-10-25  84.877502  88.210503  84.750000  88.066498  ...  59.209999   \n",
       "2019-10-28  87.403000  88.934998  87.125000  88.853996  ...  60.040001   \n",
       "2019-10-29  88.740501  88.849998  87.790497  88.135498  ...  60.070000   \n",
       "2019-10-30  88.012001  89.119003  87.956001  88.999496  ...  60.410000   \n",
       "\n",
       "                                                   WMT              \\\n",
       "                Close  Adj Close    Volume        Open        High   \n",
       "Date                                                                 \n",
       "2019-10-24  60.580002  49.041088  11143800  119.150002  119.570000   \n",
       "2019-10-25  60.369999  48.871086  15036400  119.000000  119.330002   \n",
       "2019-10-28  60.180000  48.717274  14621400  119.250000  119.699997   \n",
       "2019-10-29  60.189999  48.725368  10619900  118.500000  118.730003   \n",
       "2019-10-30  60.820000  49.235371  12136500  117.180000  118.370003   \n",
       "\n",
       "                                                         \n",
       "                   Low       Close   Adj Close   Volume  \n",
       "Date                                                     \n",
       "2019-10-24  118.510002  119.099998  111.734749  2900300  \n",
       "2019-10-25  118.199997  119.040001  111.678444  2564300  \n",
       "2019-10-28  118.529999  119.220001  111.847305  3404600  \n",
       "2019-10-29  117.080002  117.150002  109.905312  4791100  \n",
       "2019-10-30  117.050003  118.099998  110.796585  2996200  \n",
       "\n",
       "[5 rows x 120 columns]"
      ]
     },
     "execution_count": 43,
     "metadata": {},
     "output_type": "execute_result"
    }
   ],
   "source": [
    "dfStocks.head()"
   ]
  },
  {
   "cell_type": "code",
   "execution_count": 44,
   "id": "34b15406",
   "metadata": {
    "tags": []
   },
   "outputs": [],
   "source": [
    "dataset = dfStocks.join(dfIndexes)\n",
    "dataset = pd.merge(dfStocks, dfIndexes, on = 'Date', how ='inner')"
   ]
  },
  {
   "cell_type": "code",
   "execution_count": 45,
   "id": "86ccc6f5",
   "metadata": {
    "tags": []
   },
   "outputs": [
    {
     "data": {
      "text/html": [
       "<div>\n",
       "<style scoped>\n",
       "    .dataframe tbody tr th:only-of-type {\n",
       "        vertical-align: middle;\n",
       "    }\n",
       "\n",
       "    .dataframe tbody tr th {\n",
       "        vertical-align: top;\n",
       "    }\n",
       "\n",
       "    .dataframe thead tr th {\n",
       "        text-align: left;\n",
       "    }\n",
       "\n",
       "    .dataframe thead tr:last-of-type th {\n",
       "        text-align: right;\n",
       "    }\n",
       "</style>\n",
       "<table border=\"1\" class=\"dataframe\">\n",
       "  <thead>\n",
       "    <tr>\n",
       "      <th></th>\n",
       "      <th colspan=\"6\" halign=\"left\">AAPL</th>\n",
       "      <th colspan=\"4\" halign=\"left\">AMZN</th>\n",
       "      <th>...</th>\n",
       "      <th colspan=\"2\" halign=\"left\">WMT</th>\n",
       "      <th colspan=\"4\" halign=\"left\">S&amp;P500</th>\n",
       "      <th colspan=\"4\" halign=\"left\">DJIA30</th>\n",
       "    </tr>\n",
       "    <tr>\n",
       "      <th></th>\n",
       "      <th>Open</th>\n",
       "      <th>High</th>\n",
       "      <th>Low</th>\n",
       "      <th>Close</th>\n",
       "      <th>Adj Close</th>\n",
       "      <th>Volume</th>\n",
       "      <th>Open</th>\n",
       "      <th>High</th>\n",
       "      <th>Low</th>\n",
       "      <th>Close</th>\n",
       "      <th>...</th>\n",
       "      <th>Adj Close</th>\n",
       "      <th>Volume</th>\n",
       "      <th>Open</th>\n",
       "      <th>High</th>\n",
       "      <th>Low</th>\n",
       "      <th>Close</th>\n",
       "      <th>Open</th>\n",
       "      <th>High</th>\n",
       "      <th>Low</th>\n",
       "      <th>Close</th>\n",
       "    </tr>\n",
       "    <tr>\n",
       "      <th>Date</th>\n",
       "      <th></th>\n",
       "      <th></th>\n",
       "      <th></th>\n",
       "      <th></th>\n",
       "      <th></th>\n",
       "      <th></th>\n",
       "      <th></th>\n",
       "      <th></th>\n",
       "      <th></th>\n",
       "      <th></th>\n",
       "      <th></th>\n",
       "      <th></th>\n",
       "      <th></th>\n",
       "      <th></th>\n",
       "      <th></th>\n",
       "      <th></th>\n",
       "      <th></th>\n",
       "      <th></th>\n",
       "      <th></th>\n",
       "      <th></th>\n",
       "      <th></th>\n",
       "    </tr>\n",
       "  </thead>\n",
       "  <tbody>\n",
       "    <tr>\n",
       "      <th>2019-10-24</th>\n",
       "      <td>61.127499</td>\n",
       "      <td>61.200001</td>\n",
       "      <td>60.452499</td>\n",
       "      <td>60.895000</td>\n",
       "      <td>59.226208</td>\n",
       "      <td>69275200</td>\n",
       "      <td>88.554497</td>\n",
       "      <td>89.417000</td>\n",
       "      <td>88.013496</td>\n",
       "      <td>89.039001</td>\n",
       "      <td>...</td>\n",
       "      <td>111.734749</td>\n",
       "      <td>2900300</td>\n",
       "      <td>3,014.78</td>\n",
       "      <td>3,016.07</td>\n",
       "      <td>3,000.42</td>\n",
       "      <td>3,010.29</td>\n",
       "      <td>26,893.93</td>\n",
       "      <td>26,931.78</td>\n",
       "      <td>26,714.34</td>\n",
       "      <td>26,805.53</td>\n",
       "    </tr>\n",
       "    <tr>\n",
       "      <th>2019-10-25</th>\n",
       "      <td>60.790001</td>\n",
       "      <td>61.682499</td>\n",
       "      <td>60.720001</td>\n",
       "      <td>61.645000</td>\n",
       "      <td>59.955658</td>\n",
       "      <td>73477200</td>\n",
       "      <td>84.877502</td>\n",
       "      <td>88.210503</td>\n",
       "      <td>84.750000</td>\n",
       "      <td>88.066498</td>\n",
       "      <td>...</td>\n",
       "      <td>111.678444</td>\n",
       "      <td>2564300</td>\n",
       "      <td>3,003.32</td>\n",
       "      <td>3,027.39</td>\n",
       "      <td>3,001.94</td>\n",
       "      <td>3,022.55</td>\n",
       "      <td>26,789.61</td>\n",
       "      <td>27,015.37</td>\n",
       "      <td>26,765.68</td>\n",
       "      <td>26,958.06</td>\n",
       "    </tr>\n",
       "    <tr>\n",
       "      <th>2019-10-28</th>\n",
       "      <td>61.855000</td>\n",
       "      <td>62.312500</td>\n",
       "      <td>61.680000</td>\n",
       "      <td>62.262501</td>\n",
       "      <td>60.556232</td>\n",
       "      <td>96572800</td>\n",
       "      <td>87.403000</td>\n",
       "      <td>88.934998</td>\n",
       "      <td>87.125000</td>\n",
       "      <td>88.853996</td>\n",
       "      <td>...</td>\n",
       "      <td>111.847305</td>\n",
       "      <td>3404600</td>\n",
       "      <td>3,032.12</td>\n",
       "      <td>3,044.08</td>\n",
       "      <td>3,032.12</td>\n",
       "      <td>3,039.42</td>\n",
       "      <td>27,040.33</td>\n",
       "      <td>27,167.88</td>\n",
       "      <td>27,028.71</td>\n",
       "      <td>27,090.72</td>\n",
       "    </tr>\n",
       "    <tr>\n",
       "      <th>2019-10-29</th>\n",
       "      <td>62.242500</td>\n",
       "      <td>62.437500</td>\n",
       "      <td>60.642502</td>\n",
       "      <td>60.822498</td>\n",
       "      <td>59.155693</td>\n",
       "      <td>142839600</td>\n",
       "      <td>88.740501</td>\n",
       "      <td>88.849998</td>\n",
       "      <td>87.790497</td>\n",
       "      <td>88.135498</td>\n",
       "      <td>...</td>\n",
       "      <td>109.905312</td>\n",
       "      <td>4791100</td>\n",
       "      <td>3,035.39</td>\n",
       "      <td>3,047.87</td>\n",
       "      <td>3,034.81</td>\n",
       "      <td>3,036.89</td>\n",
       "      <td>27,061.07</td>\n",
       "      <td>27,165.94</td>\n",
       "      <td>27,039.76</td>\n",
       "      <td>27,071.42</td>\n",
       "    </tr>\n",
       "    <tr>\n",
       "      <th>2019-10-30</th>\n",
       "      <td>61.189999</td>\n",
       "      <td>61.325001</td>\n",
       "      <td>60.302502</td>\n",
       "      <td>60.814999</td>\n",
       "      <td>59.148388</td>\n",
       "      <td>124522000</td>\n",
       "      <td>88.012001</td>\n",
       "      <td>89.119003</td>\n",
       "      <td>87.956001</td>\n",
       "      <td>88.999496</td>\n",
       "      <td>...</td>\n",
       "      <td>110.796585</td>\n",
       "      <td>2996200</td>\n",
       "      <td>3,039.74</td>\n",
       "      <td>3,050.10</td>\n",
       "      <td>3,025.96</td>\n",
       "      <td>3,046.77</td>\n",
       "      <td>27,110.71</td>\n",
       "      <td>27,204.36</td>\n",
       "      <td>26,999.64</td>\n",
       "      <td>27,186.69</td>\n",
       "    </tr>\n",
       "  </tbody>\n",
       "</table>\n",
       "<p>5 rows × 128 columns</p>\n",
       "</div>"
      ],
      "text/plain": [
       "                 AAPL                                                         \\\n",
       "                 Open       High        Low      Close  Adj Close     Volume   \n",
       "Date                                                                           \n",
       "2019-10-24  61.127499  61.200001  60.452499  60.895000  59.226208   69275200   \n",
       "2019-10-25  60.790001  61.682499  60.720001  61.645000  59.955658   73477200   \n",
       "2019-10-28  61.855000  62.312500  61.680000  62.262501  60.556232   96572800   \n",
       "2019-10-29  62.242500  62.437500  60.642502  60.822498  59.155693  142839600   \n",
       "2019-10-30  61.189999  61.325001  60.302502  60.814999  59.148388  124522000   \n",
       "\n",
       "                 AMZN                                   ...         WMT  \\\n",
       "                 Open       High        Low      Close  ...   Adj Close   \n",
       "Date                                                    ...               \n",
       "2019-10-24  88.554497  89.417000  88.013496  89.039001  ...  111.734749   \n",
       "2019-10-25  84.877502  88.210503  84.750000  88.066498  ...  111.678444   \n",
       "2019-10-28  87.403000  88.934998  87.125000  88.853996  ...  111.847305   \n",
       "2019-10-29  88.740501  88.849998  87.790497  88.135498  ...  109.905312   \n",
       "2019-10-30  88.012001  89.119003  87.956001  88.999496  ...  110.796585   \n",
       "\n",
       "                       S&P500                                   DJIA30  \\\n",
       "             Volume      Open      High       Low     Close       Open   \n",
       "Date                                                                     \n",
       "2019-10-24  2900300  3,014.78  3,016.07  3,000.42  3,010.29  26,893.93   \n",
       "2019-10-25  2564300  3,003.32  3,027.39  3,001.94  3,022.55  26,789.61   \n",
       "2019-10-28  3404600  3,032.12  3,044.08  3,032.12  3,039.42  27,040.33   \n",
       "2019-10-29  4791100  3,035.39  3,047.87  3,034.81  3,036.89  27,061.07   \n",
       "2019-10-30  2996200  3,039.74  3,050.10  3,025.96  3,046.77  27,110.71   \n",
       "\n",
       "                                             \n",
       "                 High        Low      Close  \n",
       "Date                                         \n",
       "2019-10-24  26,931.78  26,714.34  26,805.53  \n",
       "2019-10-25  27,015.37  26,765.68  26,958.06  \n",
       "2019-10-28  27,167.88  27,028.71  27,090.72  \n",
       "2019-10-29  27,165.94  27,039.76  27,071.42  \n",
       "2019-10-30  27,204.36  26,999.64  27,186.69  \n",
       "\n",
       "[5 rows x 128 columns]"
      ]
     },
     "execution_count": 45,
     "metadata": {},
     "output_type": "execute_result"
    }
   ],
   "source": [
    "dataset.head()"
   ]
  },
  {
   "cell_type": "markdown",
   "id": "4718e624-0288-4057-aae8-9ef2a8b8dc35",
   "metadata": {},
   "source": [
    "# Data Processing\n",
    "## Calculating relative indexes of each sector"
   ]
  },
  {
   "cell_type": "markdown",
   "id": "8f44e364-fd80-49c0-9a72-c474ab3f6a74",
   "metadata": {},
   "source": [
    "Calculating relative index for tech stock"
   ]
  },
  {
   "cell_type": "code",
   "execution_count": 46,
   "id": "ed235722",
   "metadata": {
    "tags": []
   },
   "outputs": [
    {
     "data": {
      "text/html": [
       "<div>\n",
       "<style scoped>\n",
       "    .dataframe tbody tr th:only-of-type {\n",
       "        vertical-align: middle;\n",
       "    }\n",
       "\n",
       "    .dataframe tbody tr th {\n",
       "        vertical-align: top;\n",
       "    }\n",
       "\n",
       "    .dataframe thead th {\n",
       "        text-align: right;\n",
       "    }\n",
       "</style>\n",
       "<table border=\"1\" class=\"dataframe\">\n",
       "  <thead>\n",
       "    <tr style=\"text-align: right;\">\n",
       "      <th></th>\n",
       "      <th>APPL</th>\n",
       "      <th>AMZN</th>\n",
       "      <th>GOOG</th>\n",
       "      <th>META</th>\n",
       "      <th>MSFT</th>\n",
       "      <th>TechIndex</th>\n",
       "    </tr>\n",
       "    <tr>\n",
       "      <th>Date</th>\n",
       "      <th></th>\n",
       "      <th></th>\n",
       "      <th></th>\n",
       "      <th></th>\n",
       "      <th></th>\n",
       "      <th></th>\n",
       "    </tr>\n",
       "  </thead>\n",
       "  <tbody>\n",
       "    <tr>\n",
       "      <th>2019-10-24</th>\n",
       "      <td>60.895000</td>\n",
       "      <td>89.039001</td>\n",
       "      <td>63.049500</td>\n",
       "      <td>186.380005</td>\n",
       "      <td>139.940002</td>\n",
       "      <td>107.860702</td>\n",
       "    </tr>\n",
       "    <tr>\n",
       "      <th>2019-10-25</th>\n",
       "      <td>61.645000</td>\n",
       "      <td>88.066498</td>\n",
       "      <td>63.256500</td>\n",
       "      <td>187.889999</td>\n",
       "      <td>140.729996</td>\n",
       "      <td>108.317599</td>\n",
       "    </tr>\n",
       "    <tr>\n",
       "      <th>2019-10-28</th>\n",
       "      <td>62.262501</td>\n",
       "      <td>88.853996</td>\n",
       "      <td>64.500000</td>\n",
       "      <td>189.399994</td>\n",
       "      <td>144.190002</td>\n",
       "      <td>109.841299</td>\n",
       "    </tr>\n",
       "    <tr>\n",
       "      <th>2019-10-29</th>\n",
       "      <td>60.822498</td>\n",
       "      <td>88.135498</td>\n",
       "      <td>63.131001</td>\n",
       "      <td>189.309998</td>\n",
       "      <td>142.830002</td>\n",
       "      <td>108.845799</td>\n",
       "    </tr>\n",
       "    <tr>\n",
       "      <th>2019-10-30</th>\n",
       "      <td>60.814999</td>\n",
       "      <td>88.999496</td>\n",
       "      <td>63.064499</td>\n",
       "      <td>188.250000</td>\n",
       "      <td>144.610001</td>\n",
       "      <td>109.147799</td>\n",
       "    </tr>\n",
       "  </tbody>\n",
       "</table>\n",
       "</div>"
      ],
      "text/plain": [
       "                 APPL       AMZN       GOOG        META        MSFT  \\\n",
       "Date                                                                  \n",
       "2019-10-24  60.895000  89.039001  63.049500  186.380005  139.940002   \n",
       "2019-10-25  61.645000  88.066498  63.256500  187.889999  140.729996   \n",
       "2019-10-28  62.262501  88.853996  64.500000  189.399994  144.190002   \n",
       "2019-10-29  60.822498  88.135498  63.131001  189.309998  142.830002   \n",
       "2019-10-30  60.814999  88.999496  63.064499  188.250000  144.610001   \n",
       "\n",
       "             TechIndex  \n",
       "Date                    \n",
       "2019-10-24  107.860702  \n",
       "2019-10-25  108.317599  \n",
       "2019-10-28  109.841299  \n",
       "2019-10-29  108.845799  \n",
       "2019-10-30  109.147799  "
      ]
     },
     "execution_count": 46,
     "metadata": {},
     "output_type": "execute_result"
    }
   ],
   "source": [
    "tech_stock_df = pd.concat((dataset.AAPL.Close,dataset.AMZN.Close,dataset.GOOG.Close,dataset.META.Close,dataset.MSFT.Close),join = 'inner',keys=['APPL','AMZN','GOOG','META','MSFT'],axis=1)\n",
    "tech_stock_df['TechIndex'] = 0.2*tech_stock_df.APPL+0.2*tech_stock_df.AMZN+0.2*tech_stock_df.GOOG+0.2*tech_stock_df.META+0.2*tech_stock_df.MSFT\n",
    "tech_stock_df.head()"
   ]
  },
  {
   "cell_type": "markdown",
   "id": "3bf1fa5c-9f8b-4ad3-b4af-15a262c8e884",
   "metadata": {},
   "source": [
    "Calculating relative index for pharma stock"
   ]
  },
  {
   "cell_type": "code",
   "execution_count": 47,
   "id": "83fd7514-af87-45b1-9432-c65da16d34ca",
   "metadata": {
    "tags": []
   },
   "outputs": [
    {
     "data": {
      "text/html": [
       "<div>\n",
       "<style scoped>\n",
       "    .dataframe tbody tr th:only-of-type {\n",
       "        vertical-align: middle;\n",
       "    }\n",
       "\n",
       "    .dataframe tbody tr th {\n",
       "        vertical-align: top;\n",
       "    }\n",
       "\n",
       "    .dataframe thead th {\n",
       "        text-align: right;\n",
       "    }\n",
       "</style>\n",
       "<table border=\"1\" class=\"dataframe\">\n",
       "  <thead>\n",
       "    <tr style=\"text-align: right;\">\n",
       "      <th></th>\n",
       "      <th>JNJ</th>\n",
       "      <th>PFE</th>\n",
       "      <th>MRK</th>\n",
       "      <th>BMY</th>\n",
       "      <th>LLY</th>\n",
       "      <th>PharmaIndex</th>\n",
       "    </tr>\n",
       "    <tr>\n",
       "      <th>Date</th>\n",
       "      <th></th>\n",
       "      <th></th>\n",
       "      <th></th>\n",
       "      <th></th>\n",
       "      <th></th>\n",
       "      <th></th>\n",
       "    </tr>\n",
       "  </thead>\n",
       "  <tbody>\n",
       "    <tr>\n",
       "      <th>2019-10-24</th>\n",
       "      <td>127.500000</td>\n",
       "      <td>34.525616</td>\n",
       "      <td>78.797707</td>\n",
       "      <td>54.369999</td>\n",
       "      <td>107.839996</td>\n",
       "      <td>80.606664</td>\n",
       "    </tr>\n",
       "    <tr>\n",
       "      <th>2019-10-25</th>\n",
       "      <td>128.350006</td>\n",
       "      <td>34.886147</td>\n",
       "      <td>78.492363</td>\n",
       "      <td>54.980000</td>\n",
       "      <td>110.199997</td>\n",
       "      <td>81.381703</td>\n",
       "    </tr>\n",
       "    <tr>\n",
       "      <th>2019-10-28</th>\n",
       "      <td>129.179993</td>\n",
       "      <td>35.370018</td>\n",
       "      <td>78.435112</td>\n",
       "      <td>55.590000</td>\n",
       "      <td>112.989998</td>\n",
       "      <td>82.313024</td>\n",
       "    </tr>\n",
       "    <tr>\n",
       "      <th>2019-10-29</th>\n",
       "      <td>129.119995</td>\n",
       "      <td>36.252373</td>\n",
       "      <td>81.202293</td>\n",
       "      <td>55.770000</td>\n",
       "      <td>111.669998</td>\n",
       "      <td>82.802932</td>\n",
       "    </tr>\n",
       "    <tr>\n",
       "      <th>2019-10-30</th>\n",
       "      <td>132.839996</td>\n",
       "      <td>36.508537</td>\n",
       "      <td>82.270988</td>\n",
       "      <td>56.869999</td>\n",
       "      <td>112.720001</td>\n",
       "      <td>84.241904</td>\n",
       "    </tr>\n",
       "  </tbody>\n",
       "</table>\n",
       "</div>"
      ],
      "text/plain": [
       "                   JNJ        PFE        MRK        BMY         LLY  \\\n",
       "Date                                                                  \n",
       "2019-10-24  127.500000  34.525616  78.797707  54.369999  107.839996   \n",
       "2019-10-25  128.350006  34.886147  78.492363  54.980000  110.199997   \n",
       "2019-10-28  129.179993  35.370018  78.435112  55.590000  112.989998   \n",
       "2019-10-29  129.119995  36.252373  81.202293  55.770000  111.669998   \n",
       "2019-10-30  132.839996  36.508537  82.270988  56.869999  112.720001   \n",
       "\n",
       "            PharmaIndex  \n",
       "Date                     \n",
       "2019-10-24    80.606664  \n",
       "2019-10-25    81.381703  \n",
       "2019-10-28    82.313024  \n",
       "2019-10-29    82.802932  \n",
       "2019-10-30    84.241904  "
      ]
     },
     "execution_count": 47,
     "metadata": {},
     "output_type": "execute_result"
    }
   ],
   "source": [
    "pharma_stock_df = pd.concat((dataset.JNJ.Close,dataset.PFE.Close,dataset.MRK.Close,dataset.BMY.Close,dataset.LLY.Close),join = 'inner',keys=['JNJ','PFE','MRK','BMY','LLY'],axis=1)\n",
    "pharma_stock_df['PharmaIndex'] = 0.2*pharma_stock_df.JNJ+0.2*pharma_stock_df.PFE+0.2*pharma_stock_df.MRK+0.2*pharma_stock_df.BMY+0.2*pharma_stock_df.LLY\n",
    "pharma_stock_df.head()"
   ]
  },
  {
   "cell_type": "markdown",
   "id": "316b9ae7-facb-4b6f-b2b1-6b0c2fccfdc6",
   "metadata": {},
   "source": [
    "Calculating relative index for telecom stock"
   ]
  },
  {
   "cell_type": "code",
   "execution_count": 48,
   "id": "b197eea3-1886-4ba8-b2fe-512bc3ced18f",
   "metadata": {
    "tags": []
   },
   "outputs": [
    {
     "data": {
      "text/html": [
       "<div>\n",
       "<style scoped>\n",
       "    .dataframe tbody tr th:only-of-type {\n",
       "        vertical-align: middle;\n",
       "    }\n",
       "\n",
       "    .dataframe tbody tr th {\n",
       "        vertical-align: top;\n",
       "    }\n",
       "\n",
       "    .dataframe thead th {\n",
       "        text-align: right;\n",
       "    }\n",
       "</style>\n",
       "<table border=\"1\" class=\"dataframe\">\n",
       "  <thead>\n",
       "    <tr style=\"text-align: right;\">\n",
       "      <th></th>\n",
       "      <th>T</th>\n",
       "      <th>VZ</th>\n",
       "      <th>TMUS</th>\n",
       "      <th>CMCSA</th>\n",
       "      <th>CHTR</th>\n",
       "      <th>TelecomIndex</th>\n",
       "    </tr>\n",
       "    <tr>\n",
       "      <th>Date</th>\n",
       "      <th></th>\n",
       "      <th></th>\n",
       "      <th></th>\n",
       "      <th></th>\n",
       "      <th></th>\n",
       "      <th></th>\n",
       "    </tr>\n",
       "  </thead>\n",
       "  <tbody>\n",
       "    <tr>\n",
       "      <th>2019-10-24</th>\n",
       "      <td>27.809668</td>\n",
       "      <td>60.580002</td>\n",
       "      <td>81.480003</td>\n",
       "      <td>44.840000</td>\n",
       "      <td>435.070007</td>\n",
       "      <td>129.955936</td>\n",
       "    </tr>\n",
       "    <tr>\n",
       "      <th>2019-10-25</th>\n",
       "      <td>27.877644</td>\n",
       "      <td>60.369999</td>\n",
       "      <td>81.620003</td>\n",
       "      <td>45.650002</td>\n",
       "      <td>462.190002</td>\n",
       "      <td>135.541530</td>\n",
       "    </tr>\n",
       "    <tr>\n",
       "      <th>2019-10-28</th>\n",
       "      <td>29.070997</td>\n",
       "      <td>60.180000</td>\n",
       "      <td>82.389999</td>\n",
       "      <td>45.439999</td>\n",
       "      <td>467.089996</td>\n",
       "      <td>136.834198</td>\n",
       "    </tr>\n",
       "    <tr>\n",
       "      <th>2019-10-29</th>\n",
       "      <td>28.746223</td>\n",
       "      <td>60.189999</td>\n",
       "      <td>81.769997</td>\n",
       "      <td>45.349998</td>\n",
       "      <td>464.070007</td>\n",
       "      <td>136.025245</td>\n",
       "    </tr>\n",
       "    <tr>\n",
       "      <th>2019-10-30</th>\n",
       "      <td>28.851965</td>\n",
       "      <td>60.820000</td>\n",
       "      <td>83.269997</td>\n",
       "      <td>44.689999</td>\n",
       "      <td>468.779999</td>\n",
       "      <td>137.282392</td>\n",
       "    </tr>\n",
       "  </tbody>\n",
       "</table>\n",
       "</div>"
      ],
      "text/plain": [
       "                    T         VZ       TMUS      CMCSA        CHTR  \\\n",
       "Date                                                                 \n",
       "2019-10-24  27.809668  60.580002  81.480003  44.840000  435.070007   \n",
       "2019-10-25  27.877644  60.369999  81.620003  45.650002  462.190002   \n",
       "2019-10-28  29.070997  60.180000  82.389999  45.439999  467.089996   \n",
       "2019-10-29  28.746223  60.189999  81.769997  45.349998  464.070007   \n",
       "2019-10-30  28.851965  60.820000  83.269997  44.689999  468.779999   \n",
       "\n",
       "            TelecomIndex  \n",
       "Date                      \n",
       "2019-10-24    129.955936  \n",
       "2019-10-25    135.541530  \n",
       "2019-10-28    136.834198  \n",
       "2019-10-29    136.025245  \n",
       "2019-10-30    137.282392  "
      ]
     },
     "execution_count": 48,
     "metadata": {},
     "output_type": "execute_result"
    }
   ],
   "source": [
    "telecom_stock_df = pd.concat((dataset['T'].Close,dataset.VZ.Close,dataset.TMUS.Close,dataset.CMCSA.Close,dataset.CHTR.Close),join = 'inner',keys=['T','VZ','TMUS','CMCSA','CHTR'],axis=1)\n",
    "telecom_stock_df['TelecomIndex'] = 0.2*telecom_stock_df['T']+0.2*telecom_stock_df.VZ+0.2*telecom_stock_df.TMUS+0.2*telecom_stock_df.CMCSA+0.2*telecom_stock_df.CHTR\n",
    "telecom_stock_df.head()"
   ]
  },
  {
   "cell_type": "markdown",
   "id": "cc879337-6782-4589-8ed2-8eafbb8f69cc",
   "metadata": {},
   "source": [
    "Calculating relative index for FMCG stock"
   ]
  },
  {
   "cell_type": "code",
   "execution_count": 49,
   "id": "bb6ef95d-fa1d-4110-9ecc-4f2fc3dc9744",
   "metadata": {
    "tags": []
   },
   "outputs": [
    {
     "data": {
      "text/html": [
       "<div>\n",
       "<style scoped>\n",
       "    .dataframe tbody tr th:only-of-type {\n",
       "        vertical-align: middle;\n",
       "    }\n",
       "\n",
       "    .dataframe tbody tr th {\n",
       "        vertical-align: top;\n",
       "    }\n",
       "\n",
       "    .dataframe thead th {\n",
       "        text-align: right;\n",
       "    }\n",
       "</style>\n",
       "<table border=\"1\" class=\"dataframe\">\n",
       "  <thead>\n",
       "    <tr style=\"text-align: right;\">\n",
       "      <th></th>\n",
       "      <th>PG</th>\n",
       "      <th>KO</th>\n",
       "      <th>PEP</th>\n",
       "      <th>WMT</th>\n",
       "      <th>CL</th>\n",
       "      <th>FMCGIndex</th>\n",
       "    </tr>\n",
       "    <tr>\n",
       "      <th>Date</th>\n",
       "      <th></th>\n",
       "      <th></th>\n",
       "      <th></th>\n",
       "      <th></th>\n",
       "      <th></th>\n",
       "      <th></th>\n",
       "    </tr>\n",
       "  </thead>\n",
       "  <tbody>\n",
       "    <tr>\n",
       "      <th>2019-10-24</th>\n",
       "      <td>124.790001</td>\n",
       "      <td>54.610001</td>\n",
       "      <td>137.889999</td>\n",
       "      <td>119.099998</td>\n",
       "      <td>68.339996</td>\n",
       "      <td>100.945999</td>\n",
       "    </tr>\n",
       "    <tr>\n",
       "      <th>2019-10-25</th>\n",
       "      <td>123.250000</td>\n",
       "      <td>53.750000</td>\n",
       "      <td>136.639999</td>\n",
       "      <td>119.040001</td>\n",
       "      <td>68.410004</td>\n",
       "      <td>100.218001</td>\n",
       "    </tr>\n",
       "    <tr>\n",
       "      <th>2019-10-28</th>\n",
       "      <td>123.480003</td>\n",
       "      <td>53.570000</td>\n",
       "      <td>136.570007</td>\n",
       "      <td>119.220001</td>\n",
       "      <td>67.349998</td>\n",
       "      <td>100.038002</td>\n",
       "    </tr>\n",
       "    <tr>\n",
       "      <th>2019-10-29</th>\n",
       "      <td>123.599998</td>\n",
       "      <td>53.410000</td>\n",
       "      <td>136.080002</td>\n",
       "      <td>117.150002</td>\n",
       "      <td>67.919998</td>\n",
       "      <td>99.632000</td>\n",
       "    </tr>\n",
       "    <tr>\n",
       "      <th>2019-10-30</th>\n",
       "      <td>124.940002</td>\n",
       "      <td>53.939999</td>\n",
       "      <td>136.899994</td>\n",
       "      <td>118.099998</td>\n",
       "      <td>68.580002</td>\n",
       "      <td>100.491999</td>\n",
       "    </tr>\n",
       "  </tbody>\n",
       "</table>\n",
       "</div>"
      ],
      "text/plain": [
       "                    PG         KO         PEP         WMT         CL  \\\n",
       "Date                                                                   \n",
       "2019-10-24  124.790001  54.610001  137.889999  119.099998  68.339996   \n",
       "2019-10-25  123.250000  53.750000  136.639999  119.040001  68.410004   \n",
       "2019-10-28  123.480003  53.570000  136.570007  119.220001  67.349998   \n",
       "2019-10-29  123.599998  53.410000  136.080002  117.150002  67.919998   \n",
       "2019-10-30  124.940002  53.939999  136.899994  118.099998  68.580002   \n",
       "\n",
       "             FMCGIndex  \n",
       "Date                    \n",
       "2019-10-24  100.945999  \n",
       "2019-10-25  100.218001  \n",
       "2019-10-28  100.038002  \n",
       "2019-10-29   99.632000  \n",
       "2019-10-30  100.491999  "
      ]
     },
     "execution_count": 49,
     "metadata": {},
     "output_type": "execute_result"
    }
   ],
   "source": [
    "fmcg_stock_df = pd.concat((dataset.PG.Close,dataset.KO.Close,dataset.PEP.Close,dataset.WMT.Close,dataset.CL.Close),join = 'inner',keys=['PG','KO','PEP','WMT','CL'],axis=1)\n",
    "fmcg_stock_df['FMCGIndex'] = 0.2*fmcg_stock_df.PG+0.2*fmcg_stock_df.KO+0.2*fmcg_stock_df.PEP+0.2*fmcg_stock_df.WMT+0.2*fmcg_stock_df.CL\n",
    "fmcg_stock_df.head()"
   ]
  },
  {
   "cell_type": "code",
   "execution_count": null,
   "id": "36b54d28-ddd1-41fb-a9bd-fd630844a851",
   "metadata": {},
   "outputs": [],
   "source": []
  }
 ],
 "metadata": {
  "kernelspec": {
   "display_name": "Python 3 (ipykernel)",
   "language": "python",
   "name": "python3"
  },
  "language_info": {
   "codemirror_mode": {
    "name": "ipython",
    "version": 3
   },
   "file_extension": ".py",
   "mimetype": "text/x-python",
   "name": "python",
   "nbconvert_exporter": "python",
   "pygments_lexer": "ipython3",
   "version": "3.11.4"
  }
 },
 "nbformat": 4,
 "nbformat_minor": 5
}
